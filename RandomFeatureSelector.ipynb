{
 "cells": [
  {
   "cell_type": "code",
   "execution_count": 1,
   "metadata": {},
   "outputs": [],
   "source": [
    "import pandas as pd\n",
    "import numpy as np\n",
    "from sklearn.ensemble import RandomForestClassifier\n",
    "from sklearn.model_selection import train_test_split\n",
    "import shap"
   ]
  },
  {
   "cell_type": "code",
   "execution_count": 2,
   "metadata": {},
   "outputs": [],
   "source": [
    "df = pd.read_csv(\"./genetic_algorithm/train.csv\")"
   ]
  },
  {
   "cell_type": "code",
   "execution_count": 4,
   "metadata": {},
   "outputs": [],
   "source": [
    "target = 'Survived'\n",
    "predictors = list(set(df._get_numeric_data().columns) - set([target]))"
   ]
  },
  {
   "cell_type": "code",
   "execution_count": 5,
   "metadata": {},
   "outputs": [],
   "source": [
    "df[predictors] = df[predictors].fillna(0)"
   ]
  },
  {
   "cell_type": "code",
   "execution_count": 6,
   "metadata": {},
   "outputs": [],
   "source": [
    "X_train, X_test, y_train, y_test = train_test_split(df[predictors], df[target], test_size = 0.2, random_state=42)"
   ]
  },
  {
   "cell_type": "code",
   "execution_count": 142,
   "metadata": {},
   "outputs": [],
   "source": [
    "import pandas as pd\n",
    "import numpy as np\n",
    "from sklearn.ensemble import RandomForestClassifier\n",
    "from sklearn.model_selection import train_test_split\n",
    "import shap\n",
    "\n",
    "class RandomFeatureSelector:\n",
    "    \"\"\"\n",
    "    Feature selection escolhendo subset de variáveis que tem importância maior que uma variávei aleatória.\n",
    "    O classificador padrão é um Random forest classifier. \n",
    "    Classe construída para problemas de classificação binária.\n",
    "    \n",
    "    Author:\n",
    "        Caio Martins Ramos de Oliveira\n",
    "    \n",
    "    Since:\n",
    "        2019-12    \n",
    "    \"\"\"\n",
    "    def __init__(self,\n",
    "                 rand_var_type = 'integer',\n",
    "                 low_end=0,\n",
    "                 high_end=10,\n",
    "                 clf=None,\n",
    "                 importance_method = 'shap',\n",
    "                 random_state = None\n",
    "                ):\n",
    "        \"\"\"\n",
    "        Incializador da classe Random Feature Selector.\n",
    "        \n",
    "        Args:\n",
    "            rand_var_type:\n",
    "            low_end:\n",
    "            high_end:\n",
    "            clf:\n",
    "            importance_method:\n",
    "            random_state:\n",
    "\n",
    "        Author:\n",
    "            Caio Martins Ramos de Oliveira\n",
    "\n",
    "        Since:\n",
    "            2019-12    \n",
    "        \"\"\"\n",
    "        if random_state != None:\n",
    "            np.random.seed(random_state)        \n",
    "        if clf == None:\n",
    "            self.clf = RandomForestClassifier(class_weight='balanced',\n",
    "                                              n_estimators=50,\n",
    "                                              max_depth=5,\n",
    "                                              random_state=42,\n",
    "                                              n_jobs=-1)\n",
    "        self.rand_var_type = rand_var_type\n",
    "        self.importance_method = importance_method\n",
    "        self.low_end = low_end\n",
    "        self.high_end = high_end\n",
    "    \n",
    "    def _gen_rand_var_name(self, X):\n",
    "        col = 'rand_var_{}'\n",
    "        counter = 0\n",
    "        while col.format(str(counter)) in X.columns:\n",
    "            counter += 1\n",
    "        self.rand_var_name = col.format(str(counter))\n",
    "        \n",
    "    def _random_function_selector(self, X):\n",
    "        if self.rand_var_type == 'integer':\n",
    "            X[self.rand_var_name] = np.random.randint(self.low_end, self.high_end+1, size=X.shape[0])\n",
    "        elif self.rand_var_type == 'float':\n",
    "            X[self.rand_var_name] = (self.high_end + self.low_end)*np.random.random(size=X.shape[0]) - self.low_end\n",
    "        else:\n",
    "            raise AttributeError('Tipo de variável randômica inválida.')\n",
    "            \n",
    "    def _random_feature_selector(self, X, y):\n",
    "        if self.importance_method == 'shap':\n",
    "            shap_vals = shap.TreeExplainer(self.clf).shap_values(X, y)\n",
    "            importance_matrix = np.dstack((X.columns,np.abs(shap_vals[1]).mean(axis=0)))[0]\n",
    "        elif self.importance_method == 'randomforest':\n",
    "            importance_matrix = np.dstack((X.columns, self.clf.feature_importances_))[0]\n",
    "        feature_imporances = pd.DataFrame(np.dstack((X.columns, self.clf.feature_importances_))[0],\n",
    "                           columns=['feature','importance']).set_index('feature')\n",
    "        rand_importance = feature_imporances.loc[self.rand_var_name][0]\n",
    "        self.features_selected = list(feature_imporances.query('importance > @rand_importance').index) \n",
    "\n",
    "    def fit(self, X, y):\n",
    "        self._gen_rand_var_name(X)\n",
    "        self._random_function_selector(X)\n",
    "        self.clf.fit(X, y)\n",
    "        self._random_feature_selector(X, y)\n",
    "        X.drop(self.rand_var_name, axis = 1, inplace=True)\n",
    "        \n",
    "    def transform(self, X, y=None):\n",
    "        X = X[self.features_selected]\n",
    "        return X\n",
    "        \n",
    "    def fit_transform(self, X, y):\n",
    "        self.fit(X, y)\n",
    "        return self.transform(X, y)"
   ]
  },
  {
   "cell_type": "code",
   "execution_count": 161,
   "metadata": {},
   "outputs": [],
   "source": [
    "rfs = RandomFeatureSelector(importance_method='shap', high_end=50)\n",
    "rfs.fit(X_train, y_train)"
   ]
  },
  {
   "cell_type": "code",
   "execution_count": 165,
   "metadata": {},
   "outputs": [
    {
     "data": {
      "text/html": [
       "['PassengerId', 'Pclass', 'Fare']"
      ],
      "text/plain": [
       "['PassengerId', 'Pclass', 'Fare']"
      ]
     },
     "execution_count": 165,
     "metadata": {},
     "output_type": "execute_result"
    }
   ],
   "source": [
    "rfs.features_selected"
   ]
  },
  {
   "cell_type": "code",
   "execution_count": 164,
   "metadata": {},
   "outputs": [
    {
     "data": {
      "text/html": [
       "<div>\n",
       "<style scoped>\n",
       "    .dataframe tbody tr th:only-of-type {\n",
       "        vertical-align: middle;\n",
       "    }\n",
       "\n",
       "    .dataframe tbody tr th {\n",
       "        vertical-align: top;\n",
       "    }\n",
       "\n",
       "    .dataframe thead th {\n",
       "        text-align: right;\n",
       "    }\n",
       "</style>\n",
       "<table border=\"1\" class=\"dataframe\">\n",
       "  <thead>\n",
       "    <tr style=\"text-align: right;\">\n",
       "      <th></th>\n",
       "      <th>PassengerId</th>\n",
       "      <th>Pclass</th>\n",
       "      <th>Fare</th>\n",
       "    </tr>\n",
       "  </thead>\n",
       "  <tbody>\n",
       "    <tr>\n",
       "      <th>331</th>\n",
       "      <td>332</td>\n",
       "      <td>1</td>\n",
       "      <td>28.5000</td>\n",
       "    </tr>\n",
       "    <tr>\n",
       "      <th>733</th>\n",
       "      <td>734</td>\n",
       "      <td>2</td>\n",
       "      <td>13.0000</td>\n",
       "    </tr>\n",
       "    <tr>\n",
       "      <th>382</th>\n",
       "      <td>383</td>\n",
       "      <td>3</td>\n",
       "      <td>7.9250</td>\n",
       "    </tr>\n",
       "    <tr>\n",
       "      <th>704</th>\n",
       "      <td>705</td>\n",
       "      <td>3</td>\n",
       "      <td>7.8542</td>\n",
       "    </tr>\n",
       "    <tr>\n",
       "      <th>813</th>\n",
       "      <td>814</td>\n",
       "      <td>3</td>\n",
       "      <td>31.2750</td>\n",
       "    </tr>\n",
       "  </tbody>\n",
       "</table>\n",
       "</div>"
      ],
      "text/plain": [
       "     PassengerId  Pclass     Fare\n",
       "331          332       1  28.5000\n",
       "733          734       2  13.0000\n",
       "382          383       3   7.9250\n",
       "704          705       3   7.8542\n",
       "813          814       3  31.2750"
      ]
     },
     "execution_count": 164,
     "metadata": {},
     "output_type": "execute_result"
    }
   ],
   "source": [
    "rfs.fit_transform(X_train, y_train).head()"
   ]
  },
  {
   "cell_type": "code",
   "execution_count": null,
   "metadata": {},
   "outputs": [],
   "source": []
  }
 ],
 "metadata": {
  "kernelspec": {
   "display_name": "Python 3",
   "language": "python",
   "name": "python3"
  },
  "language_info": {
   "codemirror_mode": {
    "name": "ipython",
    "version": 3
   },
   "file_extension": ".py",
   "mimetype": "text/x-python",
   "name": "python",
   "nbconvert_exporter": "python",
   "pygments_lexer": "ipython3",
   "version": "3.7.3"
  }
 },
 "nbformat": 4,
 "nbformat_minor": 2
}
