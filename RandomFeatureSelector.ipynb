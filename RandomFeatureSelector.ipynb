{
 "cells": [
  {
   "cell_type": "code",
   "execution_count": 13,
   "metadata": {},
   "outputs": [],
   "source": [
    "import pandas as pd\n",
    "import numpy as np\n",
    "from sklearn.ensemble import RandomForestClassifier\n",
    "from sklearn.model_selection import train_test_split\n",
    "import shap"
   ]
  },
  {
   "cell_type": "code",
   "execution_count": 5,
   "metadata": {},
   "outputs": [],
   "source": [
    "df = pd.read_csv(\"./genetic_algorithm/train.csv\")"
   ]
  },
  {
   "cell_type": "code",
   "execution_count": 7,
   "metadata": {},
   "outputs": [
    {
     "data": {
      "text/plain": [
       "Index(['PassengerId', 'Survived', 'Pclass', 'Name', 'Sex', 'Age', 'SibSp',\n",
       "       'Parch', 'Ticket', 'Fare', 'Cabin', 'Embarked'],\n",
       "      dtype='object')"
      ]
     },
     "execution_count": 7,
     "metadata": {},
     "output_type": "execute_result"
    }
   ],
   "source": [
    "df.columns"
   ]
  },
  {
   "cell_type": "code",
   "execution_count": 8,
   "metadata": {},
   "outputs": [],
   "source": [
    "target = 'Survived'\n",
    "predictors = list(set(df._get_numeric_data().columns) - set([target]))"
   ]
  },
  {
   "cell_type": "code",
   "execution_count": 11,
   "metadata": {},
   "outputs": [],
   "source": [
    "df[predictors] = df[predictors].fillna(0)"
   ]
  },
  {
   "cell_type": "code",
   "execution_count": 14,
   "metadata": {},
   "outputs": [],
   "source": [
    "X_train, X_test, y_train, y_test = train_test_split(df[predictors], df[target], test_size = 0.2, random_state=42)"
   ]
  },
  {
   "cell_type": "code",
   "execution_count": 27,
   "metadata": {},
   "outputs": [],
   "source": [
    "rf = RandomForestClassifier(class_weight='balanced', n_estimators=50, max_depth=5, random_state=42, n_jobs=-1)"
   ]
  },
  {
   "cell_type": "code",
   "execution_count": 28,
   "metadata": {},
   "outputs": [
    {
     "data": {
      "text/plain": [
       "RandomForestClassifier(bootstrap=True, class_weight='balanced',\n",
       "                       criterion='gini', max_depth=5, max_features='auto',\n",
       "                       max_leaf_nodes=None, min_impurity_decrease=0.0,\n",
       "                       min_impurity_split=None, min_samples_leaf=1,\n",
       "                       min_samples_split=2, min_weight_fraction_leaf=0.0,\n",
       "                       n_estimators=50, n_jobs=-1, oob_score=False,\n",
       "                       random_state=42, verbose=0, warm_start=False)"
      ]
     },
     "execution_count": 28,
     "metadata": {},
     "output_type": "execute_result"
    }
   ],
   "source": [
    "rf.fit(X_train, y_train)"
   ]
  },
  {
   "cell_type": "code",
   "execution_count": null,
   "metadata": {},
   "outputs": [],
   "source": [
    "X_train['random_variable'] ="
   ]
  },
  {
   "cell_type": "code",
   "execution_count": 48,
   "metadata": {},
   "outputs": [
    {
     "data": {
      "text/plain": [
       "array([12, 18,  2,  5,  4, 19, 15, 19, 18, 10,  2, 13,  0, 14,  3, 11, 19,\n",
       "       18,  4, 17,  8,  5, 15, 16,  5, 10, 14,  6, 19,  4, 19,  9, 14,  3,\n",
       "        6,  0, 19,  1, 14, 14, 14, 19, 11, 10,  1, 19,  5, 19, 19, 14,  3,\n",
       "        6, 18,  6,  2,  6,  2,  2,  6,  1,  2,  5, 11,  9, 11, 10, 15, 16,\n",
       "       13,  4,  6,  1, 18, 19, 12, 10, 19, 16,  7, 16,  3,  4,  0,  1,  7,\n",
       "        3, 15,  5,  3,  7, 14,  8, 14, 12,  7,  3,  2, 10,  2, 15, 16, 16,\n",
       "       13, 18,  2, 19,  3,  2, 16, 11,  3,  5, 17,  2, 15,  1, 19, 13, 13,\n",
       "        1,  8, 15,  1,  2, 13,  7,  6,  6,  9,  4,  4,  6,  6, 12,  2,  9,\n",
       "        3, 19, 16, 18,  5, 13, 11, 14,  5,  2, 18, 18,  3,  6, 14,  8, 19,\n",
       "       19,  4,  9, 11, 16,  2,  3, 11,  0,  7, 10, 12, 10, 18,  5,  8,  3,\n",
       "       14, 13,  7,  5, 19, 11,  7, 15, 11, 14,  3,  7, 18, 13,  9, 16, 17,\n",
       "       14,  0,  8, 18,  8, 12,  3, 13,  6,  0,  9,  1,  6,  0, 13, 13, 17,\n",
       "       13, 19, 13, 10, 19, 12,  3, 17, 11, 18, 18, 13,  8,  3, 16,  3,  1,\n",
       "       10, 17, 13, 12,  4, 18, 14, 16, 19, 10, 13,  5,  2,  6, 13, 11, 16,\n",
       "        5,  0, 19,  8,  5,  8, 14,  1,  4, 19, 19,  3, 10, 15,  1,  6, 18,\n",
       "       15, 15,  1, 18, 13, 14, 19, 13,  4, 19,  9, 14, 19,  7, 11,  2,  5,\n",
       "       18, 12, 15,  7,  2,  5,  1,  1,  5, 18,  1, 13, 17, 15,  9, 19, 14,\n",
       "       15, 15,  0,  7, 14, 15,  5,  6,  9,  2, 16,  2,  5, 11, 19,  5,  0,\n",
       "       18,  7,  9, 12, 18,  7, 18,  7,  6,  6, 11, 18, 13, 19,  3, 18, 12,\n",
       "       14, 16,  9,  8,  0,  0,  5,  4,  6,  8, 12,  8,  0, 15, 17,  9, 15,\n",
       "       17,  2,  5, 18, 13,  7, 14,  5, 10, 15,  7,  6,  0, 16, 17,  8, 17,\n",
       "       19, 18,  3, 15, 14, 16,  3,  0,  1, 11, 13,  1, 19,  3, 15, 12, 17,\n",
       "       19,  2, 14,  2,  2,  2, 17,  7,  1,  1,  7, 15, 16,  0, 16,  3, 13,\n",
       "        4,  6,  6,  1, 17,  1, 11, 14, 16,  3, 18,  9,  0, 14,  9, 12,  6,\n",
       "       17, 18,  9, 10,  4,  9, 17,  0, 11, 15, 11,  3, 15, 19, 13, 17,  8,\n",
       "       12, 14,  1,  1, 12, 12,  3,  7, 16,  7,  8,  3,  1,  4, 17, 11,  9,\n",
       "       10, 14,  7,  1,  1, 12,  2, 10,  9, 19,  8,  4,  0,  4,  2,  9,  2,\n",
       "        6, 13,  2,  4,  4, 14,  1,  1,  5, 17, 11, 13, 13,  7,  8, 12,  3,\n",
       "        2, 12, 15,  4, 15, 13, 10,  0,  9,  7, 18, 16,  8,  8,  2, 18,  1,\n",
       "        1,  6, 13, 16,  8,  7,  2, 14, 14,  9, 15,  5,  1,  0, 17, 18,  5,\n",
       "        5,  6, 10, 13,  4,  6,  0, 12,  5,  8, 10, 17, 16,  0,  8, 18,  3,\n",
       "       17,  7,  8,  3, 11,  1, 14, 19, 12, 10,  8, 17, 15, 17, 11,  0, 13,\n",
       "        4,  6,  2, 15, 18,  1, 18,  4, 11, 14,  8,  3, 13,  1, 12,  1,  4,\n",
       "       11,  4,  4,  2,  5,  9, 10, 19, 15, 18, 14,  4, 19, 17,  3, 14,  0,\n",
       "        4,  7, 14, 19,  4,  1, 16, 18,  4, 15, 15, 12, 15,  0, 16,  7, 15,\n",
       "        2, 14,  1,  1, 11, 10,  4, 15,  2,  6, 12, 18,  9, 12, 18, 17, 12,\n",
       "        3,  5,  2, 14,  0, 19,  9,  5, 17,  5, 13,  3, 13, 12,  0,  2,  1,\n",
       "       18,  6, 14,  3, 14,  7,  3, 10,  0, 13,  6, 12, 14,  3,  7, 15,  3,\n",
       "        5, 19,  0,  9, 16,  9,  9, 18,  8,  1, 19, 13, 15, 11, 19,  2,  6,\n",
       "        9, 17,  6, 17, 14,  0,  1, 13,  2,  3, 13, 16,  5,  1, 14, 11,  9,\n",
       "       10, 12,  3, 15, 16, 12, 15,  1,  6, 11,  7, 18,  2, 19, 11,  6,  3,\n",
       "       18, 16, 12,  7, 19, 16, 12, 19,  2, 14,  0,  6, 13, 14,  5])"
      ]
     },
     "execution_count": 48,
     "metadata": {},
     "output_type": "execute_result"
    }
   ],
   "source": [
    " np.random.randint(20,size=X_train.shape[0])"
   ]
  },
  {
   "cell_type": "code",
   "execution_count": 46,
   "metadata": {},
   "outputs": [
    {
     "data": {
      "text/plain": [
       "<matplotlib.axes._subplots.AxesSubplot at 0x2837e72def0>"
      ]
     },
     "execution_count": 46,
     "metadata": {},
     "output_type": "execute_result"
    },
    {
     "data": {
      "image/png": "[encoded data removed]",
      "text/plain": [
       "<Figure size 432x288 with 1 Axes>"
      ]
     },
     "metadata": {
      "needs_background": "light"
     },
     "output_type": "display_data"
    }
   ],
   "source": [
    "pd.DataFrame(np.dstack((X_train.columns, rf.feature_importances_))[0], columns=['feature','importances']).set_index('feature').sort_values(by='importances').plot.barh()"
   ]
  },
  {
   "cell_type": "code",
   "execution_count": null,
   "metadata": {},
   "outputs": [],
   "source": []
  },
  {
   "cell_type": "code",
   "execution_count": 38,
   "metadata": {},
   "outputs": [
    {
     "ename": "ValueError",
     "evalue": "Must pass 2-d input",
     "output_type": "error",
     "traceback": [
      "\u001b[1;31m---------------------------------------------------------------------------\u001b[0m",
      "\u001b[1;31mValueError\u001b[0m                                Traceback (most recent call last)",
      "\u001b[1;32m<ipython-input-38-256c6c6d0e4b>\u001b[0m in \u001b[0;36m<module>\u001b[1;34m\u001b[0m\n\u001b[1;32m----> 1\u001b[1;33m \u001b[0mpd\u001b[0m\u001b[1;33m.\u001b[0m\u001b[0mDataFrame\u001b[0m\u001b[1;33m(\u001b[0m\u001b[0mnp\u001b[0m\u001b[1;33m.\u001b[0m\u001b[0mdstack\u001b[0m\u001b[1;33m(\u001b[0m\u001b[1;33m(\u001b[0m\u001b[0mX_train\u001b[0m\u001b[1;33m.\u001b[0m\u001b[0mcolumns\u001b[0m\u001b[1;33m,\u001b[0m \u001b[0mrf\u001b[0m\u001b[1;33m.\u001b[0m\u001b[0mfeature_importances_\u001b[0m\u001b[1;33m)\u001b[0m\u001b[1;33m)\u001b[0m\u001b[1;33m)\u001b[0m\u001b[1;33m\u001b[0m\u001b[1;33m\u001b[0m\u001b[0m\n\u001b[0m",
      "\u001b[1;32m~\\Anaconda3\\lib\\site-packages\\pandas\\core\\frame.py\u001b[0m in \u001b[0;36m__init__\u001b[1;34m(self, data, index, columns, dtype, copy)\u001b[0m\n\u001b[0;32m    422\u001b[0m             \u001b[1;32melse\u001b[0m\u001b[1;33m:\u001b[0m\u001b[1;33m\u001b[0m\u001b[1;33m\u001b[0m\u001b[0m\n\u001b[0;32m    423\u001b[0m                 mgr = init_ndarray(data, index, columns, dtype=dtype,\n\u001b[1;32m--> 424\u001b[1;33m                                    copy=copy)\n\u001b[0m\u001b[0;32m    425\u001b[0m \u001b[1;33m\u001b[0m\u001b[0m\n\u001b[0;32m    426\u001b[0m         \u001b[1;31m# For data is list-like, or Iterable (will consume into list)\u001b[0m\u001b[1;33m\u001b[0m\u001b[1;33m\u001b[0m\u001b[1;33m\u001b[0m\u001b[0m\n",
      "\u001b[1;32m~\\Anaconda3\\lib\\site-packages\\pandas\\core\\internals\\construction.py\u001b[0m in \u001b[0;36minit_ndarray\u001b[1;34m(values, index, columns, dtype, copy)\u001b[0m\n\u001b[0;32m    144\u001b[0m     \u001b[1;31m# by definition an array here\u001b[0m\u001b[1;33m\u001b[0m\u001b[1;33m\u001b[0m\u001b[1;33m\u001b[0m\u001b[0m\n\u001b[0;32m    145\u001b[0m     \u001b[1;31m# the dtypes will be coerced to a single dtype\u001b[0m\u001b[1;33m\u001b[0m\u001b[1;33m\u001b[0m\u001b[1;33m\u001b[0m\u001b[0m\n\u001b[1;32m--> 146\u001b[1;33m     \u001b[0mvalues\u001b[0m \u001b[1;33m=\u001b[0m \u001b[0mprep_ndarray\u001b[0m\u001b[1;33m(\u001b[0m\u001b[0mvalues\u001b[0m\u001b[1;33m,\u001b[0m \u001b[0mcopy\u001b[0m\u001b[1;33m=\u001b[0m\u001b[0mcopy\u001b[0m\u001b[1;33m)\u001b[0m\u001b[1;33m\u001b[0m\u001b[1;33m\u001b[0m\u001b[0m\n\u001b[0m\u001b[0;32m    147\u001b[0m \u001b[1;33m\u001b[0m\u001b[0m\n\u001b[0;32m    148\u001b[0m     \u001b[1;32mif\u001b[0m \u001b[0mdtype\u001b[0m \u001b[1;32mis\u001b[0m \u001b[1;32mnot\u001b[0m \u001b[1;32mNone\u001b[0m\u001b[1;33m:\u001b[0m\u001b[1;33m\u001b[0m\u001b[1;33m\u001b[0m\u001b[0m\n",
      "\u001b[1;32m~\\Anaconda3\\lib\\site-packages\\pandas\\core\\internals\\construction.py\u001b[0m in \u001b[0;36mprep_ndarray\u001b[1;34m(values, copy)\u001b[0m\n\u001b[0;32m    247\u001b[0m         \u001b[0mvalues\u001b[0m \u001b[1;33m=\u001b[0m \u001b[0mvalues\u001b[0m\u001b[1;33m.\u001b[0m\u001b[0mreshape\u001b[0m\u001b[1;33m(\u001b[0m\u001b[1;33m(\u001b[0m\u001b[0mvalues\u001b[0m\u001b[1;33m.\u001b[0m\u001b[0mshape\u001b[0m\u001b[1;33m[\u001b[0m\u001b[1;36m0\u001b[0m\u001b[1;33m]\u001b[0m\u001b[1;33m,\u001b[0m \u001b[1;36m1\u001b[0m\u001b[1;33m)\u001b[0m\u001b[1;33m)\u001b[0m\u001b[1;33m\u001b[0m\u001b[1;33m\u001b[0m\u001b[0m\n\u001b[0;32m    248\u001b[0m     \u001b[1;32melif\u001b[0m \u001b[0mvalues\u001b[0m\u001b[1;33m.\u001b[0m\u001b[0mndim\u001b[0m \u001b[1;33m!=\u001b[0m \u001b[1;36m2\u001b[0m\u001b[1;33m:\u001b[0m\u001b[1;33m\u001b[0m\u001b[1;33m\u001b[0m\u001b[0m\n\u001b[1;32m--> 249\u001b[1;33m         \u001b[1;32mraise\u001b[0m \u001b[0mValueError\u001b[0m\u001b[1;33m(\u001b[0m\u001b[1;34m'Must pass 2-d input'\u001b[0m\u001b[1;33m)\u001b[0m\u001b[1;33m\u001b[0m\u001b[1;33m\u001b[0m\u001b[0m\n\u001b[0m\u001b[0;32m    250\u001b[0m \u001b[1;33m\u001b[0m\u001b[0m\n\u001b[0;32m    251\u001b[0m     \u001b[1;32mreturn\u001b[0m \u001b[0mvalues\u001b[0m\u001b[1;33m\u001b[0m\u001b[1;33m\u001b[0m\u001b[0m\n",
      "\u001b[1;31mValueError\u001b[0m: Must pass 2-d input"
     ]
    }
   ],
   "source": [
    "pd.DataFrame(np.dstack((X_train.columns, rf.feature_importances_)))"
   ]
  },
  {
   "cell_type": "code",
   "execution_count": null,
   "metadata": {},
   "outputs": [],
   "source": []
  },
  {
   "cell_type": "code",
   "execution_count": 4,
   "metadata": {},
   "outputs": [],
   "source": [
    "class RandomFeatureSelector:\n",
    "    \n",
    "    def __init__(self):\n",
    "        pass\n",
    "    \n",
    "    def fit(self, X, y):\n",
    "        pass\n",
    "    \n",
    "    def transform(self, X, y=None):\n",
    "        pass"
   ]
  },
  {
   "cell_type": "code",
   "execution_count": null,
   "metadata": {},
   "outputs": [],
   "source": []
  },
  {
   "cell_type": "code",
   "execution_count": null,
   "metadata": {},
   "outputs": [],
   "source": []
  }
 ],
 "metadata": {
  "kernelspec": {
   "display_name": "Python 3",
   "language": "python",
   "name": "python3"
  },
  "language_info": {
   "codemirror_mode": {
    "name": "ipython",
    "version": 3
   },
   "file_extension": ".py",
   "mimetype": "text/x-python",
   "name": "python",
   "nbconvert_exporter": "python",
   "pygments_lexer": "ipython3",
   "version": "3.7.3"
  }
 },
 "nbformat": 4,
 "nbformat_minor": 2
}
