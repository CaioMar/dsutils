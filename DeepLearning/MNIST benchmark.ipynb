{
 "cells": [
  {
   "cell_type": "code",
   "execution_count": 36,
   "metadata": {},
   "outputs": [],
   "source": [
    "import pandas as pd\n",
    "import numpy as np\n",
    "from sklearn.decomposition import PCA\n",
    "from sklearn.model_selection import train_test_split\n",
    "from sklearn.pipeline import Pipeline\n",
    "import log_reg as lr\n",
    "import ann\n",
    "import matplotlib.pyplot as plt"
   ]
  },
  {
   "cell_type": "code",
   "execution_count": 2,
   "metadata": {},
   "outputs": [],
   "source": [
    "df = pd.read_csv(\"mnist_dataset/train.csv\")"
   ]
  },
  {
   "cell_type": "code",
   "execution_count": 3,
   "metadata": {},
   "outputs": [
    {
     "data": {
      "text/html": [
       "<div>\n",
       "<style scoped>\n",
       "    .dataframe tbody tr th:only-of-type {\n",
       "        vertical-align: middle;\n",
       "    }\n",
       "\n",
       "    .dataframe tbody tr th {\n",
       "        vertical-align: top;\n",
       "    }\n",
       "\n",
       "    .dataframe thead th {\n",
       "        text-align: right;\n",
       "    }\n",
       "</style>\n",
       "<table border=\"1\" class=\"dataframe\">\n",
       "  <thead>\n",
       "    <tr style=\"text-align: right;\">\n",
       "      <th></th>\n",
       "      <th>label</th>\n",
       "      <th>pixel0</th>\n",
       "      <th>pixel1</th>\n",
       "      <th>pixel2</th>\n",
       "      <th>pixel3</th>\n",
       "      <th>pixel4</th>\n",
       "      <th>pixel5</th>\n",
       "      <th>pixel6</th>\n",
       "      <th>pixel7</th>\n",
       "      <th>pixel8</th>\n",
       "      <th>...</th>\n",
       "      <th>pixel774</th>\n",
       "      <th>pixel775</th>\n",
       "      <th>pixel776</th>\n",
       "      <th>pixel777</th>\n",
       "      <th>pixel778</th>\n",
       "      <th>pixel779</th>\n",
       "      <th>pixel780</th>\n",
       "      <th>pixel781</th>\n",
       "      <th>pixel782</th>\n",
       "      <th>pixel783</th>\n",
       "    </tr>\n",
       "  </thead>\n",
       "  <tbody>\n",
       "    <tr>\n",
       "      <td>0</td>\n",
       "      <td>1</td>\n",
       "      <td>0</td>\n",
       "      <td>0</td>\n",
       "      <td>0</td>\n",
       "      <td>0</td>\n",
       "      <td>0</td>\n",
       "      <td>0</td>\n",
       "      <td>0</td>\n",
       "      <td>0</td>\n",
       "      <td>0</td>\n",
       "      <td>...</td>\n",
       "      <td>0</td>\n",
       "      <td>0</td>\n",
       "      <td>0</td>\n",
       "      <td>0</td>\n",
       "      <td>0</td>\n",
       "      <td>0</td>\n",
       "      <td>0</td>\n",
       "      <td>0</td>\n",
       "      <td>0</td>\n",
       "      <td>0</td>\n",
       "    </tr>\n",
       "    <tr>\n",
       "      <td>1</td>\n",
       "      <td>0</td>\n",
       "      <td>0</td>\n",
       "      <td>0</td>\n",
       "      <td>0</td>\n",
       "      <td>0</td>\n",
       "      <td>0</td>\n",
       "      <td>0</td>\n",
       "      <td>0</td>\n",
       "      <td>0</td>\n",
       "      <td>0</td>\n",
       "      <td>...</td>\n",
       "      <td>0</td>\n",
       "      <td>0</td>\n",
       "      <td>0</td>\n",
       "      <td>0</td>\n",
       "      <td>0</td>\n",
       "      <td>0</td>\n",
       "      <td>0</td>\n",
       "      <td>0</td>\n",
       "      <td>0</td>\n",
       "      <td>0</td>\n",
       "    </tr>\n",
       "    <tr>\n",
       "      <td>2</td>\n",
       "      <td>1</td>\n",
       "      <td>0</td>\n",
       "      <td>0</td>\n",
       "      <td>0</td>\n",
       "      <td>0</td>\n",
       "      <td>0</td>\n",
       "      <td>0</td>\n",
       "      <td>0</td>\n",
       "      <td>0</td>\n",
       "      <td>0</td>\n",
       "      <td>...</td>\n",
       "      <td>0</td>\n",
       "      <td>0</td>\n",
       "      <td>0</td>\n",
       "      <td>0</td>\n",
       "      <td>0</td>\n",
       "      <td>0</td>\n",
       "      <td>0</td>\n",
       "      <td>0</td>\n",
       "      <td>0</td>\n",
       "      <td>0</td>\n",
       "    </tr>\n",
       "    <tr>\n",
       "      <td>3</td>\n",
       "      <td>4</td>\n",
       "      <td>0</td>\n",
       "      <td>0</td>\n",
       "      <td>0</td>\n",
       "      <td>0</td>\n",
       "      <td>0</td>\n",
       "      <td>0</td>\n",
       "      <td>0</td>\n",
       "      <td>0</td>\n",
       "      <td>0</td>\n",
       "      <td>...</td>\n",
       "      <td>0</td>\n",
       "      <td>0</td>\n",
       "      <td>0</td>\n",
       "      <td>0</td>\n",
       "      <td>0</td>\n",
       "      <td>0</td>\n",
       "      <td>0</td>\n",
       "      <td>0</td>\n",
       "      <td>0</td>\n",
       "      <td>0</td>\n",
       "    </tr>\n",
       "    <tr>\n",
       "      <td>4</td>\n",
       "      <td>0</td>\n",
       "      <td>0</td>\n",
       "      <td>0</td>\n",
       "      <td>0</td>\n",
       "      <td>0</td>\n",
       "      <td>0</td>\n",
       "      <td>0</td>\n",
       "      <td>0</td>\n",
       "      <td>0</td>\n",
       "      <td>0</td>\n",
       "      <td>...</td>\n",
       "      <td>0</td>\n",
       "      <td>0</td>\n",
       "      <td>0</td>\n",
       "      <td>0</td>\n",
       "      <td>0</td>\n",
       "      <td>0</td>\n",
       "      <td>0</td>\n",
       "      <td>0</td>\n",
       "      <td>0</td>\n",
       "      <td>0</td>\n",
       "    </tr>\n",
       "  </tbody>\n",
       "</table>\n",
       "<p>5 rows × 785 columns</p>\n",
       "</div>"
      ],
      "text/plain": [
       "   label  pixel0  pixel1  pixel2  pixel3  pixel4  pixel5  pixel6  pixel7  \\\n",
       "0      1       0       0       0       0       0       0       0       0   \n",
       "1      0       0       0       0       0       0       0       0       0   \n",
       "2      1       0       0       0       0       0       0       0       0   \n",
       "3      4       0       0       0       0       0       0       0       0   \n",
       "4      0       0       0       0       0       0       0       0       0   \n",
       "\n",
       "   pixel8  ...  pixel774  pixel775  pixel776  pixel777  pixel778  pixel779  \\\n",
       "0       0  ...         0         0         0         0         0         0   \n",
       "1       0  ...         0         0         0         0         0         0   \n",
       "2       0  ...         0         0         0         0         0         0   \n",
       "3       0  ...         0         0         0         0         0         0   \n",
       "4       0  ...         0         0         0         0         0         0   \n",
       "\n",
       "   pixel780  pixel781  pixel782  pixel783  \n",
       "0         0         0         0         0  \n",
       "1         0         0         0         0  \n",
       "2         0         0         0         0  \n",
       "3         0         0         0         0  \n",
       "4         0         0         0         0  \n",
       "\n",
       "[5 rows x 785 columns]"
      ]
     },
     "execution_count": 3,
     "metadata": {},
     "output_type": "execute_result"
    }
   ],
   "source": [
    "df.head()"
   ]
  },
  {
   "cell_type": "code",
   "execution_count": 110,
   "metadata": {},
   "outputs": [],
   "source": [
    "X = df[['pixel{}'.format(i) for i in range(784)]].values.astype(np.float32)\n",
    "mu = X.mean(axis=0)\n",
    "std = X.std(axis=0)\n",
    "np.place(std, std == 0, 1)\n",
    "X_train, X_test, y_train, y_test = train_test_split((X-mu)/std, \n",
    "                                                    df['label'].values.astype(np.int32), test_size=0.2, random_state=42)"
   ]
  },
  {
   "cell_type": "code",
   "execution_count": 111,
   "metadata": {},
   "outputs": [
    {
     "data": {
      "image/png": "[encoded data removed]",
      "text/plain": [
       "<Figure size 1296x720 with 24 Axes>"
      ]
     },
     "metadata": {
      "needs_background": "light"
     },
     "output_type": "display_data"
    }
   ],
   "source": [
    "imageside = 28\n",
    "cols = 4\n",
    "rows = 6\n",
    "f, axarr = plt.subplots(rows,cols,figsize=(18,10))\n",
    "for i in range(rows):\n",
    "    for j in range(cols):\n",
    "        axarr[i,j].imshow(X_train[cols*i+j].reshape(imageside,imageside), cmap='gray')\n",
    "        axarr[i,j].set_title(y_train[cols*i+j])\n",
    "\n",
    "f.tight_layout(pad=1.5)"
   ]
  },
  {
   "cell_type": "code",
   "execution_count": 17,
   "metadata": {},
   "outputs": [
    {
     "name": "stdout",
     "output_type": "stream",
     "text": [
      "cost:  306905.6959783495 accuracy:  0.08288690476190476\n",
      "cost:  32339.414248245906 accuracy:  0.8845238095238095\n",
      "cost:  24311.235959206406 accuracy:  0.9053571428571429\n",
      "cost:  20886.319017016558 accuracy:  0.9202083333333333\n",
      "cost:  19547.343653302745 accuracy:  0.9237797619047619\n",
      "cost:  20294.68440031517 accuracy:  0.9220238095238096\n",
      "cost:  21374.295347683586 accuracy:  0.9200297619047619\n",
      "cost:  17613.884490549128 accuracy:  0.9287202380952381\n",
      "cost:  17835.584144502725 accuracy:  0.9279166666666666\n",
      "cost:  18451.398053290544 accuracy:  0.9239880952380952\n"
     ]
    }
   ],
   "source": [
    "logreg = lr.MulticlassLogisticRegression(num_epochs=1000, print_epoch=100, learning_rate=5e-4)\n",
    "logreg.fit(X_train, y_train)"
   ]
  },
  {
   "cell_type": "code",
   "execution_count": 18,
   "metadata": {},
   "outputs": [
    {
     "data": {
      "text/plain": [
       "16425.66081006546"
      ]
     },
     "execution_count": 18,
     "metadata": {},
     "output_type": "execute_result"
    }
   ],
   "source": [
    "min(logreg.costs)#lowest cost"
   ]
  },
  {
   "cell_type": "code",
   "execution_count": 19,
   "metadata": {},
   "outputs": [
    {
     "name": "stdout",
     "output_type": "stream",
     "text": [
      "Model accuracy on training set: 0.9272\n",
      "Model accuracy on test set: 0.9138095238095238\n"
     ]
    }
   ],
   "source": [
    "print(\"Model accuracy on training set: {}\\n\".format(round(logreg.score(y_train, logreg.predict_proba(X_train)),4))+\n",
    "      \"Model accuracy on test set: {}\".format(logreg.score(y_test, logreg.predict_proba(X_test))))"
   ]
  },
  {
   "cell_type": "markdown",
   "metadata": {},
   "source": [
    "Now with PCA:"
   ]
  },
  {
   "cell_type": "code",
   "execution_count": 77,
   "metadata": {},
   "outputs": [
    {
     "data": {
      "text/plain": [
       "PCA(copy=True, iterated_power='auto', n_components=None, random_state=42,\n",
       "    svd_solver='auto', tol=0.0, whiten=False)"
      ]
     },
     "execution_count": 77,
     "metadata": {},
     "output_type": "execute_result"
    }
   ],
   "source": [
    "pca = PCA(random_state=42)\n",
    "pca.fit(X_train)"
   ]
  },
  {
   "cell_type": "code",
   "execution_count": 110,
   "metadata": {},
   "outputs": [
    {
     "data": {
      "image/png": "[encoded data removed]",
      "text/plain": [
       "<Figure size 432x288 with 1 Axes>"
      ]
     },
     "metadata": {
      "needs_background": "light"
     },
     "output_type": "display_data"
    }
   ],
   "source": [
    "plt.plot(np.cumsum(pca.explained_variance_ratio_))\n",
    "plt.hlines(0.90,0,300,linestyles='--')\n",
    "plt.show()"
   ]
  },
  {
   "cell_type": "code",
   "execution_count": 90,
   "metadata": {},
   "outputs": [],
   "source": [
    "n_features = list(np.cumsum(pca.explained_variance_ratio_)>0.99)\\\n",
    "    .index(True)#number of features to get 99% variance"
   ]
  },
  {
   "cell_type": "code",
   "execution_count": 92,
   "metadata": {},
   "outputs": [],
   "source": [
    "pca = PCA(n_components=n_features,random_state=42)\n",
    "logreg = lr.MulticlassLogisticRegression(num_epochs=1000, print_epoch=100, learning_rate=5e-4)"
   ]
  },
  {
   "cell_type": "code",
   "execution_count": 96,
   "metadata": {},
   "outputs": [
    {
     "name": "stdout",
     "output_type": "stream",
     "text": [
      "cost:  280131.62828864774 accuracy:  0.10288690476190476\n",
      "cost:  11572.800992040988 accuracy:  0.9099702380952381\n",
      "cost:  9854.095109680204 accuracy:  0.9168452380952381\n",
      "cost:  8734.42555521692 accuracy:  0.927797619047619\n",
      "cost:  9108.982057053561 accuracy:  0.9224404761904762\n",
      "cost:  8041.864259221479 accuracy:  0.9321428571428572\n",
      "cost:  15357.845329823343 accuracy:  0.8703869047619047\n",
      "cost:  7798.5890538605145 accuracy:  0.9345535714285714\n",
      "cost:  7593.660905393331 accuracy:  0.9363690476190476\n",
      "cost:  8807.409834038206 accuracy:  0.9198214285714286\n"
     ]
    },
    {
     "data": {
      "text/plain": [
       "Pipeline(memory=None,\n",
       "         steps=[('pca',\n",
       "                 PCA(copy=True, iterated_power='auto', n_components=329,\n",
       "                     random_state=42, svd_solver='auto', tol=0.0,\n",
       "                     whiten=False)),\n",
       "                ('logreg',\n",
       "                 <log_reg.MulticlassLogisticRegression object at 0x7f1cf7eed5d0>)],\n",
       "         verbose=False)"
      ]
     },
     "execution_count": 96,
     "metadata": {},
     "output_type": "execute_result"
    }
   ],
   "source": [
    "pipe = Pipeline([(\"pca\", pca),\n",
    "                 (\"logreg\", logreg)])\n",
    "pipe.fit(X_train, y_train)"
   ]
  },
  {
   "cell_type": "code",
   "execution_count": 102,
   "metadata": {},
   "outputs": [
    {
     "name": "stdout",
     "output_type": "stream",
     "text": [
      "Model accuracy on training set: 0.9297\n",
      "Model accuracy on test set: 0.9067857142857143\n"
     ]
    }
   ],
   "source": [
    "print(\"Model accuracy on training set: {}\\n\".format(round(pipe.steps[1][1].score(y_train, pipe.predict_proba(X_train)),4))+\n",
    "      \"Model accuracy on test set: {}\".format(pipe.steps[1][1].score(y_test, pipe.predict_proba(X_test))))"
   ]
  },
  {
   "cell_type": "markdown",
   "metadata": {},
   "source": [
    "Logistic regression with batch gradient descent (10 batches) - no PCA:"
   ]
  },
  {
   "cell_type": "code",
   "execution_count": 23,
   "metadata": {},
   "outputs": [
    {
     "name": "stdout",
     "output_type": "stream",
     "text": [
      "cost:  305962.54547604144 accuracy:  0.07217261904761904\n",
      "cost:  152606.07170322468 accuracy:  0.3011309523809524\n",
      "cost:  99835.81248417712 accuracy:  0.48538690476190477\n",
      "cost:  77148.66349173624 accuracy:  0.5754166666666667\n",
      "cost:  64204.545105171834 accuracy:  0.6302083333333334\n",
      "cost:  55846.05562186662 accuracy:  0.668422619047619\n",
      "cost:  50044.529581710805 accuracy:  0.6972619047619047\n",
      "cost:  45712.41414759238 accuracy:  0.7191666666666666\n",
      "cost:  42440.892034403645 accuracy:  0.7341369047619047\n",
      "cost:  39792.872714378645 accuracy:  0.7489285714285714\n",
      "cost:  37703.27918443384 accuracy:  0.7620238095238095\n",
      "cost:  35887.31460031661 accuracy:  0.7708333333333334\n",
      "cost:  34393.56353800194 accuracy:  0.7788690476190476\n",
      "cost:  33045.148062988854 accuracy:  0.7864285714285715\n",
      "cost:  31924.87091558418 accuracy:  0.7924404761904762\n",
      "cost:  30884.97772897636 accuracy:  0.7968452380952381\n",
      "cost:  29981.545380365482 accuracy:  0.8027083333333334\n",
      "cost:  29187.38851961286 accuracy:  0.8071130952380953\n",
      "cost:  28413.348561217237 accuracy:  0.8114880952380953\n",
      "cost:  27747.42545877365 accuracy:  0.8157440476190476\n",
      "cost:  27127.0360389696 accuracy:  0.8189285714285715\n",
      "cost:  26565.341316619742 accuracy:  0.8222619047619047\n",
      "cost:  26034.24648403901 accuracy:  0.8251488095238095\n",
      "cost:  25545.267971988193 accuracy:  0.8282440476190476\n",
      "cost:  25098.903522010194 accuracy:  0.8303273809523809\n",
      "cost:  24662.22486520733 accuracy:  0.832827380952381\n",
      "cost:  24260.58757481808 accuracy:  0.8354166666666667\n",
      "cost:  23889.186353077766 accuracy:  0.8376190476190476\n",
      "cost:  23522.466862699825 accuracy:  0.8396130952380952\n",
      "cost:  23198.392868448802 accuracy:  0.8413392857142857\n",
      "cost:  22883.12023200013 accuracy:  0.8430059523809523\n",
      "cost:  22574.832711396273 accuracy:  0.8451190476190477\n",
      "cost:  22283.918105906967 accuracy:  0.8463095238095238\n",
      "cost:  22006.38535417071 accuracy:  0.8479464285714285\n",
      "cost:  21736.808844444917 accuracy:  0.8494345238095238\n",
      "cost:  21492.379582186524 accuracy:  0.8510714285714286\n",
      "cost:  21261.07912751191 accuracy:  0.8517857142857143\n",
      "cost:  21018.824537864395 accuracy:  0.8530952380952381\n",
      "cost:  20810.132075713238 accuracy:  0.8541071428571428\n",
      "cost:  20601.544255285728 accuracy:  0.8549404761904762\n",
      "cost:  20391.653497536652 accuracy:  0.855922619047619\n",
      "cost:  20191.44757447397 accuracy:  0.8573214285714286\n",
      "cost:  20011.007379565755 accuracy:  0.8582738095238095\n",
      "cost:  19837.547174165342 accuracy:  0.8594047619047619\n",
      "cost:  19664.563831160816 accuracy:  0.8601488095238096\n",
      "cost:  19489.651834722477 accuracy:  0.8617261904761905\n",
      "cost:  19348.498409426677 accuracy:  0.8619940476190476\n",
      "cost:  19166.267660481277 accuracy:  0.8636011904761904\n",
      "cost:  19019.23818815614 accuracy:  0.8642559523809524\n",
      "cost:  18890.598524643312 accuracy:  0.8650595238095238\n",
      "cost:  18742.675319562717 accuracy:  0.8658928571428571\n",
      "cost:  18593.51128566061 accuracy:  0.8669345238095238\n",
      "cost:  18467.35501956099 accuracy:  0.8672619047619048\n",
      "cost:  18335.025302196562 accuracy:  0.8686607142857142\n",
      "cost:  18201.306413599756 accuracy:  0.869672619047619\n",
      "cost:  18078.628436749048 accuracy:  0.869702380952381\n",
      "cost:  17967.188894660507 accuracy:  0.8712202380952381\n",
      "cost:  17849.99665355313 accuracy:  0.8713690476190477\n",
      "cost:  17737.920944360463 accuracy:  0.8717559523809524\n",
      "cost:  17615.678041403487 accuracy:  0.8729166666666667\n",
      "cost:  17513.11189863245 accuracy:  0.8732440476190476\n",
      "cost:  17417.628068951723 accuracy:  0.873125\n",
      "cost:  17305.924920689074 accuracy:  0.8743452380952381\n",
      "cost:  17214.477083453658 accuracy:  0.8742261904761904\n",
      "cost:  17107.22072487688 accuracy:  0.8751488095238096\n",
      "cost:  17018.300400913107 accuracy:  0.8755654761904762\n",
      "cost:  16924.477788673874 accuracy:  0.8758035714285715\n",
      "cost:  16835.267280793767 accuracy:  0.8762797619047619\n",
      "cost:  16750.233253424845 accuracy:  0.8769642857142858\n",
      "cost:  16660.287119817407 accuracy:  0.877470238095238\n",
      "cost:  16586.004697224 accuracy:  0.8777678571428571\n",
      "cost:  16504.23794342027 accuracy:  0.8778571428571429\n",
      "cost:  16417.766881846124 accuracy:  0.8790476190476191\n",
      "cost:  16342.704640975975 accuracy:  0.8789285714285714\n",
      "cost:  16264.68843078661 accuracy:  0.879702380952381\n",
      "cost:  16186.101447787787 accuracy:  0.8805357142857143\n",
      "cost:  16116.258903990112 accuracy:  0.880922619047619\n",
      "cost:  16056.63724128986 accuracy:  0.8801488095238095\n",
      "cost:  15965.856418475669 accuracy:  0.881875\n",
      "cost:  15904.556365514276 accuracy:  0.8811011904761905\n",
      "cost:  15827.675492449327 accuracy:  0.882529761904762\n",
      "cost:  15771.353087663158 accuracy:  0.8823511904761905\n",
      "cost:  15697.289509465287 accuracy:  0.8829761904761905\n",
      "cost:  15632.483725827144 accuracy:  0.8829464285714286\n",
      "cost:  15585.885564351123 accuracy:  0.8835119047619048\n",
      "cost:  15516.828672412292 accuracy:  0.8839583333333333\n",
      "cost:  15448.76149979247 accuracy:  0.8840178571428572\n",
      "cost:  15421.06940255112 accuracy:  0.884077380952381\n",
      "cost:  15326.929841144167 accuracy:  0.8848511904761904\n",
      "cost:  15278.239999434532 accuracy:  0.8851190476190476\n",
      "cost:  15217.852976307102 accuracy:  0.8851488095238095\n",
      "cost:  15161.18623497146 accuracy:  0.8854464285714285\n",
      "cost:  15108.159871938527 accuracy:  0.8857142857142857\n",
      "cost:  15051.675280942956 accuracy:  0.8860119047619047\n",
      "cost:  14999.80527042321 accuracy:  0.886547619047619\n",
      "cost:  14954.11520754544 accuracy:  0.8867559523809524\n",
      "cost:  14894.429538490944 accuracy:  0.8873809523809524\n",
      "cost:  14840.051855209562 accuracy:  0.8877083333333333\n",
      "cost:  14792.415563190803 accuracy:  0.8874702380952381\n",
      "cost:  14752.324952719402 accuracy:  0.8888988095238095\n"
     ]
    }
   ],
   "source": [
    "logreg = lr.MulticlassLogisticRegression(num_epochs=100, print_epoch=10, learning_rate=2e-4, gd_type='batch')\n",
    "logreg.fit(X_train, y_train)"
   ]
  },
  {
   "cell_type": "code",
   "execution_count": 24,
   "metadata": {},
   "outputs": [
    {
     "data": {
      "text/plain": [
       "14707.447123468753"
      ]
     },
     "execution_count": 24,
     "metadata": {},
     "output_type": "execute_result"
    }
   ],
   "source": [
    "min(logreg.costs)#lowest cost"
   ]
  },
  {
   "cell_type": "code",
   "execution_count": 26,
   "metadata": {},
   "outputs": [
    {
     "name": "stdout",
     "output_type": "stream",
     "text": [
      "Model accuracy on training set: 0.8883\n",
      "Model accuracy on test set: 0.8786904761904762\n"
     ]
    }
   ],
   "source": [
    "print(\"Model accuracy on training set: {}\\n\".format(round(logreg.score(y_train, logreg.predict_proba(X_train)),4))+\n",
    "      \"Model accuracy on test set: {}\".format(logreg.score(y_test, logreg.predict_proba(X_test))))"
   ]
  },
  {
   "cell_type": "markdown",
   "metadata": {},
   "source": [
    "Now we check the performance of an ANN with a sigmoid activation function:"
   ]
  },
  {
   "cell_type": "code",
   "execution_count": 106,
   "metadata": {},
   "outputs": [
    {
     "name": "stdout",
     "output_type": "stream",
     "text": [
      "cost:  83353.88199343924 accuracy:  0.095625\n",
      "cost:  77364.78656490288 accuracy:  0.18041666666666667\n",
      "cost:  82329.76744731491 accuracy:  0.10160714285714285\n",
      "cost:  76842.05938478374 accuracy:  0.22005952380952382\n",
      "cost:  73474.49588029567 accuracy:  0.1938690476190476\n",
      "cost:  75449.84696378066 accuracy:  0.17875\n",
      "cost:  65711.08267828502 accuracy:  0.4675\n",
      "cost:  66896.32705691879 accuracy:  0.3358035714285714\n",
      "cost:  62497.6161632431 accuracy:  0.41660714285714284\n",
      "cost:  53282.28762313655 accuracy:  0.6543154761904761\n",
      "cost:  53336.338215194555 accuracy:  0.5414880952380953\n",
      "cost:  46937.88947890296 accuracy:  0.5458630952380953\n",
      "cost:  38401.140987740684 accuracy:  0.7181547619047619\n",
      "cost:  39158.36614066951 accuracy:  0.6386309523809524\n",
      "cost:  34133.85024000931 accuracy:  0.7069345238095238\n",
      "cost:  27522.970882737023 accuracy:  0.7890178571428571\n",
      "cost:  25826.492605844276 accuracy:  0.7730654761904762\n",
      "cost:  25905.46872102143 accuracy:  0.763125\n",
      "cost:  23900.101909499648 accuracy:  0.7942261904761905\n",
      "cost:  21406.591977259304 accuracy:  0.800625\n",
      "cost:  19586.05805516319 accuracy:  0.8139583333333333\n",
      "cost:  19362.509854584012 accuracy:  0.8183630952380953\n",
      "cost:  19762.538739609085 accuracy:  0.817827380952381\n",
      "cost:  20018.1489419999 accuracy:  0.8226785714285715\n",
      "cost:  19682.421549348113 accuracy:  0.8345238095238096\n",
      "cost:  19349.03613377442 accuracy:  0.8405952380952381\n",
      "cost:  19386.96786948476 accuracy:  0.8402678571428571\n",
      "cost:  19456.551408865227 accuracy:  0.8428571428571429\n",
      "cost:  19441.821848805765 accuracy:  0.8485119047619047\n",
      "cost:  19508.197007018418 accuracy:  0.8537797619047619\n",
      "cost:  19681.91267315276 accuracy:  0.8555357142857143\n",
      "cost:  19805.57308697271 accuracy:  0.8584226190476191\n",
      "cost:  19852.374577797465 accuracy:  0.8622619047619048\n",
      "cost:  19981.21473775183 accuracy:  0.8641666666666666\n",
      "cost:  20332.125585515558 accuracy:  0.8619642857142857\n",
      "cost:  20817.1931299722 accuracy:  0.8589583333333334\n",
      "cost:  21162.113936842085 accuracy:  0.8580952380952381\n",
      "cost:  21153.69990836452 accuracy:  0.8609523809523809\n",
      "cost:  20883.235532570983 accuracy:  0.8672321428571429\n",
      "cost:  20622.795933152524 accuracy:  0.8735714285714286\n",
      "cost:  20511.09421712549 accuracy:  0.8770238095238095\n",
      "cost:  20532.202698828558 accuracy:  0.8787202380952381\n",
      "cost:  20563.506339162017 accuracy:  0.8804464285714285\n",
      "cost:  20564.782367089938 accuracy:  0.8823511904761905\n",
      "cost:  20502.990567672954 accuracy:  0.8840178571428572\n",
      "cost:  20449.404401178497 accuracy:  0.8848511904761904\n",
      "cost:  20496.47037402134 accuracy:  0.8861607142857143\n",
      "cost:  20586.22468320873 accuracy:  0.8870535714285714\n",
      "cost:  20556.728686690003 accuracy:  0.8872321428571428\n",
      "cost:  20386.230284070345 accuracy:  0.887797619047619\n",
      "cost:  20028.80538556404 accuracy:  0.8888690476190476\n",
      "cost:  19560.090339694827 accuracy:  0.8908630952380953\n",
      "cost:  19099.107671273774 accuracy:  0.892797619047619\n",
      "cost:  18723.06459873995 accuracy:  0.8951190476190476\n",
      "cost:  18472.217152787347 accuracy:  0.8972321428571428\n",
      "cost:  18361.898419958095 accuracy:  0.8970833333333333\n",
      "cost:  18299.09658631569 accuracy:  0.8964583333333334\n",
      "cost:  18223.461919436486 accuracy:  0.8955059523809524\n",
      "cost:  18089.301980172302 accuracy:  0.8963690476190476\n",
      "cost:  17884.3146210323 accuracy:  0.8967261904761905\n",
      "cost:  17640.48739201603 accuracy:  0.8966666666666666\n",
      "cost:  17353.718304989176 accuracy:  0.8969047619047619\n",
      "cost:  17059.698969629942 accuracy:  0.8976190476190476\n",
      "cost:  16793.275924280922 accuracy:  0.8985714285714286\n",
      "cost:  16568.921596437038 accuracy:  0.8986904761904762\n",
      "cost:  16365.04055182324 accuracy:  0.8997916666666667\n",
      "cost:  16118.289671698669 accuracy:  0.9001785714285714\n",
      "cost:  15812.92732765309 accuracy:  0.9011309523809524\n",
      "cost:  15462.65025416983 accuracy:  0.9032142857142857\n",
      "cost:  15144.572627839985 accuracy:  0.9050595238095238\n",
      "cost:  14912.702688329731 accuracy:  0.9062797619047619\n",
      "cost:  14758.739276441682 accuracy:  0.9066964285714286\n",
      "cost:  14691.894705130957 accuracy:  0.9061607142857143\n",
      "cost:  14648.562670385609 accuracy:  0.9057142857142857\n",
      "cost:  14582.956250817158 accuracy:  0.9051190476190476\n",
      "cost:  14458.422662366735 accuracy:  0.9036309523809524\n",
      "cost:  14260.249053876776 accuracy:  0.9042559523809524\n",
      "cost:  14026.051830518645 accuracy:  0.9048214285714286\n",
      "cost:  13792.837544533797 accuracy:  0.9063988095238096\n",
      "cost:  13575.820234559451 accuracy:  0.9072321428571428\n",
      "cost:  13409.331837435939 accuracy:  0.9086607142857143\n",
      "cost:  13276.298378066938 accuracy:  0.909375\n",
      "cost:  13167.619239130794 accuracy:  0.9092559523809524\n",
      "cost:  13058.952692686104 accuracy:  0.9089583333333333\n",
      "cost:  12936.803205961447 accuracy:  0.909375\n",
      "cost:  12804.975537678809 accuracy:  0.9094940476190476\n",
      "cost:  12666.376845658842 accuracy:  0.9095833333333333\n",
      "cost:  12525.93902207233 accuracy:  0.9096130952380952\n",
      "cost:  12409.279154520267 accuracy:  0.9097916666666667\n",
      "cost:  12319.883428545314 accuracy:  0.9102976190476191\n",
      "cost:  12285.219160673047 accuracy:  0.9096428571428572\n",
      "cost:  12303.087221197338 accuracy:  0.9081845238095239\n",
      "cost:  12335.69034793864 accuracy:  0.9086309523809524\n",
      "cost:  12308.209723145588 accuracy:  0.9078571428571428\n",
      "cost:  12162.120520972032 accuracy:  0.9091369047619048\n",
      "cost:  11922.432676214046 accuracy:  0.9119940476190476\n",
      "cost:  11654.111658746584 accuracy:  0.9139285714285714\n",
      "cost:  11459.737721559895 accuracy:  0.9149702380952381\n",
      "cost:  11378.304067289002 accuracy:  0.9158035714285714\n",
      "cost:  11394.056775283832 accuracy:  0.9149702380952381\n",
      "cost:  11432.998313712136 accuracy:  0.9144047619047619\n",
      "cost:  11386.539928299511 accuracy:  0.9153869047619048\n",
      "cost:  11270.01320734111 accuracy:  0.9155357142857142\n",
      "cost:  11089.984352764748 accuracy:  0.9170535714285715\n",
      "cost:  10843.177256515111 accuracy:  0.9192857142857143\n",
      "cost:  10609.677429631021 accuracy:  0.9209226190476191\n",
      "cost:  10442.858428917818 accuracy:  0.9220833333333334\n",
      "cost:  10361.454115526565 accuracy:  0.9231845238095238\n",
      "cost:  10368.210967623776 accuracy:  0.9238392857142858\n",
      "cost:  10426.465535959274 accuracy:  0.9238392857142858\n",
      "cost:  10461.049888546733 accuracy:  0.9234523809523809\n",
      "cost:  10429.29437758235 accuracy:  0.9236011904761905\n",
      "cost:  10317.738678528167 accuracy:  0.924970238095238\n",
      "cost:  10152.718836008034 accuracy:  0.9267559523809524\n",
      "cost:  9995.780988969032 accuracy:  0.9277083333333334\n",
      "cost:  9881.526092614928 accuracy:  0.9286309523809524\n",
      "cost:  9836.559071244112 accuracy:  0.9282440476190477\n",
      "cost:  9856.301973457867 accuracy:  0.9275892857142857\n",
      "cost:  9909.407363646716 accuracy:  0.9262202380952381\n",
      "cost:  9934.062826360476 accuracy:  0.925625\n",
      "cost:  9881.541641052765 accuracy:  0.9255059523809523\n",
      "cost:  9744.251810028722 accuracy:  0.9261904761904762\n",
      "cost:  9539.703765310333 accuracy:  0.9282440476190477\n",
      "cost:  9309.464506079035 accuracy:  0.9304761904761905\n",
      "cost:  9095.234081040442 accuracy:  0.9316071428571429\n",
      "cost:  8954.323553172953 accuracy:  0.9322916666666666\n",
      "cost:  8930.64214393881 accuracy:  0.9319940476190476\n",
      "cost:  9012.421211992603 accuracy:  0.9317559523809524\n",
      "cost:  9163.581342777483 accuracy:  0.9311309523809523\n",
      "cost:  9336.944472514073 accuracy:  0.9292857142857143\n",
      "cost:  9466.24810531768 accuracy:  0.9286607142857143\n",
      "cost:  9502.912215325003 accuracy:  0.9287202380952381\n",
      "cost:  9434.976626857682 accuracy:  0.9293452380952381\n",
      "cost:  9305.975190699342 accuracy:  0.9302976190476191\n",
      "cost:  9151.708569278382 accuracy:  0.9317857142857143\n",
      "cost:  9007.564059280288 accuracy:  0.9320833333333334\n",
      "cost:  8912.372601471976 accuracy:  0.9329464285714286\n",
      "cost:  8868.729162915253 accuracy:  0.9325\n",
      "cost:  8847.281899368456 accuracy:  0.9320535714285715\n",
      "cost:  8808.050738074131 accuracy:  0.9322916666666666\n",
      "cost:  8737.701570492905 accuracy:  0.9320238095238095\n",
      "cost:  8639.119686669106 accuracy:  0.93375\n",
      "cost:  8555.068777095441 accuracy:  0.9348511904761905\n",
      "cost:  8501.198797355119 accuracy:  0.9358630952380952\n",
      "cost:  8495.764997435363 accuracy:  0.9358928571428572\n",
      "cost:  8548.092496915828 accuracy:  0.9347916666666667\n",
      "cost:  8642.588375557478 accuracy:  0.9338690476190477\n",
      "cost:  8735.411336683552 accuracy:  0.9333333333333333\n",
      "cost:  8784.551775231206 accuracy:  0.9326488095238096\n",
      "cost:  8760.270483888606 accuracy:  0.9325892857142857\n"
     ]
    },
    {
     "name": "stdout",
     "output_type": "stream",
     "text": [
      "cost:  8648.181192120977 accuracy:  0.9333035714285715\n",
      "cost:  8457.743530319936 accuracy:  0.9350595238095238\n",
      "cost:  8250.19143712904 accuracy:  0.936875\n",
      "cost:  8059.722764628137 accuracy:  0.93875\n",
      "cost:  7926.126796728563 accuracy:  0.939672619047619\n",
      "cost:  7865.915462653137 accuracy:  0.9398511904761905\n",
      "cost:  7876.756993674899 accuracy:  0.9398809523809524\n",
      "cost:  7950.695971975542 accuracy:  0.9388392857142858\n",
      "cost:  8056.735914758846 accuracy:  0.9372916666666666\n",
      "cost:  8161.0307571734675 accuracy:  0.9357440476190476\n"
     ]
    }
   ],
   "source": [
    "nn = ann.ANNClassifier(hidden_layers_dims=[300],\n",
    "                       activation='sigmoid',\n",
    "                       num_epochs=20,\n",
    "                       print_epoch=5,\n",
    "                       learning_rate=1e-5,\n",
    "                       gd_type='batch',\n",
    "                       batch_number=40,\n",
    "                       eps=0,\n",
    "                       regularization = 0.01)\n",
    "nn.fit(X_train, y_train)"
   ]
  },
  {
   "cell_type": "code",
   "execution_count": 107,
   "metadata": {},
   "outputs": [
    {
     "name": "stdout",
     "output_type": "stream",
     "text": [
      "Model accuracy on training set: 0.9347\n",
      "Model accuracy on test set: 0.9266666666666666\n"
     ]
    }
   ],
   "source": [
    "print(\"Model accuracy on training set: {}\\n\".format(round(nn.score(y_train, nn.predict_proba(X_train)),4))+\n",
    "      \"Model accuracy on test set: {}\".format(nn.score(y_test, nn.predict_proba(X_test))))"
   ]
  },
  {
   "cell_type": "code",
   "execution_count": 108,
   "metadata": {},
   "outputs": [
    {
     "data": {
      "text/plain": [
       "7861.544489971272"
      ]
     },
     "execution_count": 108,
     "metadata": {},
     "output_type": "execute_result"
    }
   ],
   "source": [
    "min(nn.costs)#lowest cost"
   ]
  },
  {
   "cell_type": "code",
   "execution_count": 166,
   "metadata": {},
   "outputs": [
    {
     "data": {
      "text/plain": [
       "<module 'ann' from '/home/caio/Desktop/dsutils/DeepLearning/ann.py'>"
      ]
     },
     "execution_count": 166,
     "metadata": {},
     "output_type": "execute_result"
    }
   ],
   "source": [
    "import importlib\n",
    "importlib.reload(ann)"
   ]
  },
  {
   "cell_type": "code",
   "execution_count": 236,
   "metadata": {},
   "outputs": [
    {
     "name": "stdout",
     "output_type": "stream",
     "text": [
      "cost:  84399.4524328287 accuracy:  0.12705357142857143\n",
      "cost:  74834.75594024752 accuracy:  0.19958333333333333\n",
      "cost:  72622.58397088492 accuracy:  0.2849107142857143\n",
      "cost:  53897.71929221719 accuracy:  0.7170833333333333\n",
      "cost:  48386.19665786601 accuracy:  0.5312202380952381\n",
      "cost:  32650.18432143289 accuracy:  0.7752380952380953\n",
      "cost:  28735.56867830865 accuracy:  0.7642559523809523\n",
      "cost:  24022.10942373233 accuracy:  0.7948214285714286\n",
      "cost:  19371.392799568694 accuracy:  0.8145238095238095\n",
      "cost:  18874.916784234276 accuracy:  0.8161309523809523\n",
      "cost:  18369.70941682426 accuracy:  0.8253869047619048\n",
      "cost:  18276.064769330354 accuracy:  0.8335714285714285\n",
      "cost:  18108.981981495745 accuracy:  0.8449702380952381\n",
      "cost:  16883.388696935424 accuracy:  0.8636904761904762\n",
      "cost:  16434.431911609314 accuracy:  0.8707440476190477\n",
      "cost:  17056.554387918328 accuracy:  0.8719345238095239\n",
      "cost:  18070.33944694215 accuracy:  0.8691964285714285\n",
      "cost:  18492.72938984065 accuracy:  0.8720238095238095\n",
      "cost:  18264.879539755155 accuracy:  0.880327380952381\n",
      "cost:  18256.634995998047 accuracy:  0.8849702380952381\n",
      "cost:  18462.324441325996 accuracy:  0.885922619047619\n",
      "cost:  18290.28280504758 accuracy:  0.8886904761904761\n",
      "cost:  17924.082445688684 accuracy:  0.8922916666666667\n",
      "cost:  18067.183303932703 accuracy:  0.8938392857142857\n",
      "cost:  18637.61814101124 accuracy:  0.8922619047619048\n",
      "cost:  18964.418214630332 accuracy:  0.891875\n",
      "cost:  18768.204145198102 accuracy:  0.8954761904761904\n",
      "cost:  18299.401637670475 accuracy:  0.8999107142857142\n",
      "cost:  17962.15192196287 accuracy:  0.9027380952380952\n",
      "cost:  17936.338727267244 accuracy:  0.9053869047619048\n",
      "cost:  18078.20195899381 accuracy:  0.9063690476190476\n",
      "cost:  18186.444549092637 accuracy:  0.9067261904761905\n",
      "cost:  18284.140948534317 accuracy:  0.9088392857142857\n",
      "cost:  18446.301982883866 accuracy:  0.9089880952380952\n",
      "cost:  18570.45489513008 accuracy:  0.9098511904761905\n",
      "cost:  18467.671638258726 accuracy:  0.9120238095238096\n",
      "cost:  18181.811447688207 accuracy:  0.9139583333333333\n",
      "cost:  17858.08022737574 accuracy:  0.9157738095238095\n",
      "cost:  17578.97463098686 accuracy:  0.916875\n",
      "cost:  17380.947440753127 accuracy:  0.9186904761904762\n"
     ]
    }
   ],
   "source": [
    "nn = ann.ANNClassifier(hidden_layers_dims=[300],\n",
    "                       activation='sigmoid',\n",
    "                       num_epochs=20,\n",
    "                       print_epoch=20,\n",
    "                       learning_rate=1e-6,\n",
    "                       gd_type='batch',\n",
    "                       batch_number=40,\n",
    "                       eps=1e-8, #guarantees cost doesn't explode due to log of zero\n",
    "                       regularization = 0.01, \n",
    "                       mu=0.001 #if I choose high momentum parameter weights quickly explode\n",
    "                      )\n",
    "nn.fit(X_train, y_train)"
   ]
  },
  {
   "cell_type": "code",
   "execution_count": 237,
   "metadata": {},
   "outputs": [],
   "source": [
    "costs1 = nn.costs"
   ]
  },
  {
   "cell_type": "code",
   "execution_count": 240,
   "metadata": {},
   "outputs": [
    {
     "data": {
      "text/plain": [
       "<matplotlib.legend.Legend at 0x7f26ed0b6410>"
      ]
     },
     "execution_count": 240,
     "metadata": {},
     "output_type": "execute_result"
    },
    {
     "data": {
      "image/png": "[encoded data removed]",
      "text/plain": [
       "<Figure size 432x288 with 1 Axes>"
      ]
     },
     "metadata": {
      "needs_background": "light"
     },
     "output_type": "display_data"
    }
   ],
   "source": [
    "plt.plot(costs1[:300]) #with momentum\n",
    "plt.plot(costs2[:300]) #no momentum\n",
    "plt.legend(['costs1','costs2'])"
   ]
  },
  {
   "cell_type": "code",
   "execution_count": 241,
   "metadata": {},
   "outputs": [
    {
     "name": "stdout",
     "output_type": "stream",
     "text": [
      "Model accuracy on training set: 0.9193\n",
      "Model accuracy on test set: 0.911547619047619\n"
     ]
    }
   ],
   "source": [
    "print(\"Model accuracy on training set: {}\\n\".format(round(nn.score(y_train, nn.predict_proba(X_train)),4))+\n",
    "      \"Model accuracy on test set: {}\".format(nn.score(y_test, nn.predict_proba(X_test))))"
   ]
  }
 ],
 "metadata": {
  "kernelspec": {
   "display_name": "Python 3",
   "language": "python",
   "name": "python3"
  },
  "language_info": {
   "codemirror_mode": {
    "name": "ipython",
    "version": 3
   },
   "file_extension": ".py",
   "mimetype": "text/x-python",
   "name": "python",
   "nbconvert_exporter": "python",
   "pygments_lexer": "ipython3",
   "version": "3.7.4"
  }
 },
 "nbformat": 4,
 "nbformat_minor": 2
}
