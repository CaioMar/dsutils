{
 "cells": [
  {
   "cell_type": "code",
   "execution_count": 9,
   "metadata": {},
   "outputs": [],
   "source": [
    "import sympy as sp"
   ]
  },
  {
   "cell_type": "code",
   "execution_count": 13,
   "metadata": {},
   "outputs": [
    {
     "data": {
      "text/latex": [
       "$\\displaystyle \\frac{d}{d x} \\left(x^{2} - x + 1\\right)$"
      ],
      "text/plain": [
       "Derivative(x**2 - x + 1, x)"
      ]
     },
     "execution_count": 13,
     "metadata": {},
     "output_type": "execute_result"
    }
   ],
   "source": [
    "x = sp.symbols('x') \n",
    "expr = x**2 - x + 1\n",
    "diff = sp.Derivative(expr, x)\n",
    "diff"
   ]
  },
  {
   "cell_type": "code",
   "execution_count": 14,
   "metadata": {},
   "outputs": [
    {
     "data": {
      "text/latex": [
       "$\\displaystyle 2 x - 1$"
      ],
      "text/plain": [
       "2*x - 1"
      ]
     },
     "execution_count": 14,
     "metadata": {},
     "output_type": "execute_result"
    }
   ],
   "source": [
    "diff.doit()"
   ]
  },
  {
   "cell_type": "markdown",
   "metadata": {},
   "source": [
    "At the minimum: $x = \\frac{1}{2}$"
   ]
  },
  {
   "cell_type": "markdown",
   "metadata": {},
   "source": [
    "Function value at at minimum:"
   ]
  },
  {
   "cell_type": "code",
   "execution_count": 5,
   "metadata": {},
   "outputs": [
    {
     "data": {
      "text/plain": [
       "0.75"
      ]
     },
     "execution_count": 5,
     "metadata": {},
     "output_type": "execute_result"
    }
   ],
   "source": [
    "0.5**2-0.5+1"
   ]
  },
  {
   "cell_type": "code",
   "execution_count": 15,
   "metadata": {},
   "outputs": [],
   "source": [
    "import numpy as np\n",
    "import tensorflow as tf"
   ]
  },
  {
   "cell_type": "code",
   "execution_count": 16,
   "metadata": {},
   "outputs": [
    {
     "data": {
      "text/plain": [
       "'1.14.0'"
      ]
     },
     "execution_count": 16,
     "metadata": {},
     "output_type": "execute_result"
    }
   ],
   "source": [
    "tf.__version__"
   ]
  },
  {
   "cell_type": "code",
   "execution_count": 20,
   "metadata": {},
   "outputs": [],
   "source": [
    "A = tf.placeholder(tf.float32)\n",
    "v = tf.placeholder(tf.float32)\n",
    "op = tf.matmul(A,v)"
   ]
  },
  {
   "cell_type": "code",
   "execution_count": 23,
   "metadata": {},
   "outputs": [],
   "source": [
    "with tf.Session() as session:\n",
    "    output = session.run(op, feed_dict={A:np.random.random((3,3)),v:np.random.random((3,1))})"
   ]
  },
  {
   "cell_type": "code",
   "execution_count": 24,
   "metadata": {},
   "outputs": [
    {
     "name": "stdout",
     "output_type": "stream",
     "text": [
      "[[0.6251757 ]\n",
      " [0.98640007]\n",
      " [0.24678826]]\n"
     ]
    }
   ],
   "source": [
    "print(output)"
   ]
  },
  {
   "cell_type": "code",
   "execution_count": 31,
   "metadata": {},
   "outputs": [],
   "source": [
    "u = tf.Variable(20.0)"
   ]
  },
  {
   "cell_type": "code",
   "execution_count": 32,
   "metadata": {},
   "outputs": [],
   "source": [
    "func = u*u - u + 1"
   ]
  },
  {
   "cell_type": "code",
   "execution_count": 57,
   "metadata": {},
   "outputs": [],
   "source": [
    "opt = tf.train.GradientDescentOptimizer(0.22).minimize(func)"
   ]
  },
  {
   "cell_type": "code",
   "execution_count": 58,
   "metadata": {},
   "outputs": [],
   "source": [
    "init = tf.global_variables_initializer()"
   ]
  },
  {
   "cell_type": "code",
   "execution_count": 59,
   "metadata": {},
   "outputs": [
    {
     "name": "stdout",
     "output_type": "stream",
     "text": [
      "iteration: 0 - func_value: 120.00 - u_value: 11.42\n",
      "iteration: 1 - func_value: 38.15 - u_value: 6.62\n",
      "iteration: 2 - func_value: 12.48 - u_value: 3.92\n",
      "iteration: 3 - func_value: 4.43 - u_value: 2.42\n",
      "iteration: 4 - func_value: 1.90 - u_value: 1.57\n",
      "iteration: 5 - func_value: 1.11 - u_value: 1.10\n",
      "iteration: 6 - func_value: 0.86 - u_value: 0.84\n",
      "iteration: 7 - func_value: 0.79 - u_value: 0.69\n",
      "iteration: 8 - func_value: 0.76 - u_value: 0.61\n",
      "iteration: 9 - func_value: 0.75 - u_value: 0.56\n",
      "iteration: 10 - func_value: 0.75 - u_value: 0.53\n",
      "iteration: 11 - func_value: 0.75 - u_value: 0.52\n",
      "iteration: 12 - func_value: 0.75 - u_value: 0.51\n",
      "iteration: 13 - func_value: 0.75 - u_value: 0.51\n",
      "iteration: 14 - func_value: 0.75 - u_value: 0.50\n"
     ]
    }
   ],
   "source": [
    "with tf.Session() as session:\n",
    "    session.run(init)\n",
    "    for i in range(15):\n",
    "        minimum = session.run(opt)\n",
    "        print(\"iteration: %d - func_value: %.2f - u_value: %0.2f\" % (i, func.eval(), u.eval()))"
   ]
  }
 ],
 "metadata": {
  "kernelspec": {
   "display_name": "Python 3",
   "language": "python",
   "name": "python3"
  },
  "language_info": {
   "codemirror_mode": {
    "name": "ipython",
    "version": 3
   },
   "file_extension": ".py",
   "mimetype": "text/x-python",
   "name": "python",
   "nbconvert_exporter": "python",
   "pygments_lexer": "ipython3",
   "version": "3.7.4"
  }
 },
 "nbformat": 4,
 "nbformat_minor": 2
}
