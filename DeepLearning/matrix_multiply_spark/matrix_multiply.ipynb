{
 "cells": [
  {
   "cell_type": "code",
   "execution_count": 1,
   "metadata": {},
   "outputs": [],
   "source": [
    "from pyspark.sql import SparkSession\n",
    "from pyspark.sql.dataframe import DataFrame\n",
    "from pyspark.sql import functions as f\n",
    "from pyspark.sql import types as t\n",
    "import pandas as pd\n",
    "import numpy as np\n",
    "import matrix_multiplier as mp"
   ]
  },
  {
   "cell_type": "code",
   "execution_count": 2,
   "metadata": {},
   "outputs": [],
   "source": [
    "spark = SparkSession.builder.appName('lol').getOrCreate()"
   ]
  },
  {
   "cell_type": "code",
   "execution_count": 3,
   "metadata": {},
   "outputs": [],
   "source": [
    "#loading titanic dataset as Spark DataFrame\n",
    "pdf = pd.read_csv('./train.csv')\n",
    "converter = {'int64':t.IntegerType(),'float64':t.FloatType(),'object':t.StringType()}\n",
    "schema = t.StructType([t.StructField(c,converter[str(i[0])],False) for c, i in pdf.dtypes.to_frame().iterrows()])\n",
    "df = spark.createDataFrame(pdf, schema=schema)"
   ]
  },
  {
   "cell_type": "code",
   "execution_count": 4,
   "metadata": {},
   "outputs": [],
   "source": [
    "df_new = df.select(['age', 'parch', 'pclass'])"
   ]
  },
  {
   "cell_type": "code",
   "execution_count": 5,
   "metadata": {},
   "outputs": [],
   "source": [
    "m = np.array([[1, 0],\n",
    "          [5, 2]])"
   ]
  },
  {
   "cell_type": "code",
   "execution_count": 6,
   "metadata": {},
   "outputs": [],
   "source": [
    "n = np.array([2,0])"
   ]
  },
  {
   "cell_type": "code",
   "execution_count": 7,
   "metadata": {},
   "outputs": [
    {
     "name": "stdout",
     "output_type": "stream",
     "text": [
      "select\n",
      "\tparch,\n",
      "\t1/(1 + exp(-(1*age + 5*pclass + 2))) as col_0,\n",
      "\t1/(1 + exp(-(0*age + 2*pclass + 0))) as col_1\n",
      "from\n",
      "\ttable\n"
     ]
    }
   ],
   "source": [
    "print(mp.MatrixMultiplier(df_new.fillna(0), m, n, activation='sigmoid', df_cols=['age', 'pclass']))"
   ]
  }
 ],
 "metadata": {
  "kernelspec": {
   "display_name": "Python 3",
   "language": "python",
   "name": "python3"
  },
  "language_info": {
   "codemirror_mode": {
    "name": "ipython",
    "version": 3
   },
   "file_extension": ".py",
   "mimetype": "text/x-python",
   "name": "python",
   "nbconvert_exporter": "python",
   "pygments_lexer": "ipython3",
   "version": "3.7.4"
  }
 },
 "nbformat": 4,
 "nbformat_minor": 2
}
