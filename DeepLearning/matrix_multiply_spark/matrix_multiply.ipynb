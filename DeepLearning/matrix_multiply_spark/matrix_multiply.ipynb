{
 "cells": [
  {
   "cell_type": "code",
   "execution_count": 1,
   "metadata": {},
   "outputs": [],
   "source": [
    "from pyspark.sql import SparkSession\n",
    "from pyspark.sql.dataframe import DataFrame\n",
    "from pyspark.sql import functions as f\n",
    "from pyspark.sql import types as t\n",
    "import pandas as pd\n",
    "import numpy as np\n",
    "import matrix_multiplier as mp\n",
    "import pca"
   ]
  },
  {
   "cell_type": "code",
   "execution_count": 2,
   "metadata": {},
   "outputs": [],
   "source": [
    "spark = SparkSession.builder.appName('lol').getOrCreate()"
   ]
  },
  {
   "cell_type": "code",
   "execution_count": 3,
   "metadata": {},
   "outputs": [],
   "source": [
    "#loading titanic dataset as Spark DataFrame\n",
    "pdf = pd.read_csv('./train.csv')\n",
    "converter = {'int64':t.IntegerType(),'float64':t.FloatType(),'object':t.StringType()}\n",
    "schema = t.StructType([t.StructField(c,converter[str(i[0])],False) for c, i in pdf.dtypes.to_frame().iterrows()])\n",
    "df = spark.createDataFrame(pdf, schema=schema)"
   ]
  },
  {
   "cell_type": "code",
   "execution_count": 4,
   "metadata": {},
   "outputs": [],
   "source": [
    "selected_cols = ['Age', 'Parch', 'Pclass']\n",
    "df_new = df.select(selected_cols)"
   ]
  },
  {
   "cell_type": "code",
   "execution_count": 5,
   "metadata": {},
   "outputs": [],
   "source": [
    "m = np.array([[1, 0],\n",
    "          [0, 1]])"
   ]
  },
  {
   "cell_type": "code",
   "execution_count": 6,
   "metadata": {},
   "outputs": [],
   "source": [
    "n = np.array([1,0])"
   ]
  },
  {
   "cell_type": "code",
   "execution_count": 7,
   "metadata": {},
   "outputs": [
    {
     "name": "stdout",
     "output_type": "stream",
     "text": [
      "select\n",
      "\tParch,\n",
      "\tcase when 1*Age + 0*Pclass + 1 > 0 then 1*Age + 0*Pclass + 1 else 0 end as col_0,\n",
      "\tcase when 0*Age + 1*Pclass + 0 > 0 then 0*Age + 1*Pclass + 0 else 0 end as col_1\n",
      "from\n",
      "\ttable\n"
     ]
    }
   ],
   "source": [
    "print(mp.MatrixMultiplier(df_new.fillna(0), m, n, activation='relu', df_cols=['Age', 'Pclass']))"
   ]
  },
  {
   "cell_type": "code",
   "execution_count": 9,
   "metadata": {},
   "outputs": [],
   "source": [
    "m2 = np.array([[0, 1],\n",
    "             [1, 0],\n",
    "             [0,1]])"
   ]
  },
  {
   "cell_type": "code",
   "execution_count": 10,
   "metadata": {},
   "outputs": [
    {
     "name": "stdout",
     "output_type": "stream",
     "text": [
      "select\n",
      "\tcase when 0*Parch + 1*col_0 + 0*col_1 + 0.0 > 0 then 0*Parch + 1*col_0 + 0*col_1 + 0.0 else 0 end as col_0,\n",
      "\tcase when 1*Parch + 0*col_0 + 1*col_1 + 0.0 > 0 then 1*Parch + 0*col_0 + 1*col_1 + 0.0 else 0 end as col_1\n",
      "from\n",
      "\ttable\n"
     ]
    }
   ],
   "source": [
    "print(mp.MatrixMultiplier(\n",
    "        spark.sql(str(mp.MatrixMultiplier(df_new.fillna(0),\n",
    "                                      m,\n",
    "                                      n,\n",
    "                                      activation='relu',\n",
    "                                      df_cols=['Age', 'Pclass']))),\n",
    "        m2,\n",
    "        activation='relu'))"
   ]
  },
  {
   "cell_type": "code",
   "execution_count": 11,
   "metadata": {},
   "outputs": [
    {
     "name": "stdout",
     "output_type": "stream",
     "text": [
      "+----+-----+------+\n",
      "| Age|Parch|Pclass|\n",
      "+----+-----+------+\n",
      "|22.0|    0|     3|\n",
      "|38.0|    0|     1|\n",
      "|26.0|    0|     3|\n",
      "|35.0|    0|     1|\n",
      "|35.0|    0|     3|\n",
      "| 0.0|    0|     3|\n",
      "|54.0|    0|     1|\n",
      "| 2.0|    1|     3|\n",
      "|27.0|    2|     3|\n",
      "|14.0|    0|     2|\n",
      "| 4.0|    1|     3|\n",
      "|58.0|    0|     1|\n",
      "|20.0|    0|     3|\n",
      "|39.0|    5|     3|\n",
      "|14.0|    0|     3|\n",
      "|55.0|    0|     2|\n",
      "| 2.0|    1|     3|\n",
      "| 0.0|    0|     2|\n",
      "|31.0|    0|     3|\n",
      "| 0.0|    0|     3|\n",
      "+----+-----+------+\n",
      "only showing top 20 rows\n",
      "\n"
     ]
    }
   ],
   "source": [
    "df_new.fillna(0).show()"
   ]
  },
  {
   "cell_type": "markdown",
   "metadata": {},
   "source": [
    "Successive multiplications, something essential in Neural Nets, seem to be working."
   ]
  },
  {
   "cell_type": "code",
   "execution_count": 12,
   "metadata": {},
   "outputs": [
    {
     "name": "stdout",
     "output_type": "stream",
     "text": [
      "+-----+-----+\n",
      "|col_0|col_1|\n",
      "+-----+-----+\n",
      "| 23.0|  3.0|\n",
      "| 39.0|  1.0|\n",
      "| 27.0|  3.0|\n",
      "| 36.0|  1.0|\n",
      "| 36.0|  3.0|\n",
      "|  1.0|  3.0|\n",
      "| 55.0|  1.0|\n",
      "|  3.0|  4.0|\n",
      "| 28.0|  5.0|\n",
      "| 15.0|  2.0|\n",
      "|  5.0|  4.0|\n",
      "| 59.0|  1.0|\n",
      "| 21.0|  3.0|\n",
      "| 40.0|  8.0|\n",
      "| 15.0|  3.0|\n",
      "| 56.0|  2.0|\n",
      "|  3.0|  4.0|\n",
      "|  1.0|  2.0|\n",
      "| 32.0|  3.0|\n",
      "|  1.0|  3.0|\n",
      "+-----+-----+\n",
      "only showing top 20 rows\n",
      "\n"
     ]
    }
   ],
   "source": [
    "spark.sql(str(mp.MatrixMultiplier(\n",
    "        spark.sql(str(mp.MatrixMultiplier(df_new.fillna(0),\n",
    "                                      m,\n",
    "                                      n,\n",
    "                                      activation='relu',\n",
    "                                      df_cols=['Age', 'Pclass']))),\n",
    "        m2,\n",
    "        activation='relu'))).show()"
   ]
  },
  {
   "cell_type": "markdown",
   "metadata": {},
   "source": [
    "Code bellow uses the my PCA implementation which also transforms Spark Dataframes:"
   ]
  },
  {
   "cell_type": "code",
   "execution_count": 69,
   "metadata": {},
   "outputs": [],
   "source": [
    "pca2 = pca.PCA_enhanced(n_components=2)\n",
    "pca2.fit(pdf[selected_cols].fillna(0))"
   ]
  },
  {
   "cell_type": "code",
   "execution_count": 70,
   "metadata": {},
   "outputs": [
    {
     "data": {
      "text/plain": [
       "['Age', 'Parch', 'Pclass']"
      ]
     },
     "execution_count": 70,
     "metadata": {},
     "output_type": "execute_result"
    }
   ],
   "source": [
    "pca2.df_cols"
   ]
  },
  {
   "cell_type": "code",
   "execution_count": 71,
   "metadata": {},
   "outputs": [
    {
     "name": "stdout",
     "output_type": "stream",
     "text": [
      "+---------------------+---------------------+\n",
      "|principal_component_0|principal_component_1|\n",
      "+---------------------+---------------------+\n",
      "|   -1.810059623879277|  -0.3770845059197297|\n",
      "|   14.221934644472002| -0.36346856543709183|\n",
      "|    2.189338571502903| -0.36724077345834105|\n",
      "|   11.222385997935366|  -0.3708513647831333|\n",
      "|   11.187984511112807| -0.34509237542021665|\n",
      "|  -23.806749698481266| -0.43122503445736715|\n",
      "|   30.219527426000724|  -0.3240936355915373|\n",
      "|  -21.809289819283187|   0.5736108592901694|\n",
      "|   3.1847096833624273|   1.6350482146906906|\n",
      "|   -9.791655271232358| -0.40965146552396525|\n",
      "|  -19.809590721592098|   0.5785327255208638|\n",
      "|   34.218925621382894| -0.31424990313014867|\n",
      "|   -3.809758721570367|   -0.382006372150424|\n",
      "|   15.176186614029936|   4.6643214946253835|\n",
      "|   -9.808856014643636|  -0.3967719708425069|\n",
      "|   31.202176231434986|  -0.3087532077947318|\n",
      "|  -21.809289819283187|   0.5736108592901694|\n",
      "|  -23.789548955069986|  -0.4441045291388255|\n",
      "|    7.188586315730628|  -0.3549361078816053|\n",
      "|  -23.806749698481266| -0.43122503445736715|\n",
      "+---------------------+---------------------+\n",
      "only showing top 20 rows\n",
      "\n"
     ]
    }
   ],
   "source": [
    "pca2.transform(df_new.fillna(0)).show()"
   ]
  },
  {
   "cell_type": "code",
   "execution_count": 72,
   "metadata": {},
   "outputs": [
    {
     "name": "stdout",
     "output_type": "stream",
     "text": [
      "+------+---------------------+---------------------+\n",
      "|   Sex|principal_component_0|principal_component_1|\n",
      "+------+---------------------+---------------------+\n",
      "|  male|   -1.810059623879277|  -0.3770845059197297|\n",
      "|female|   14.221934644472002| -0.36346856543709183|\n",
      "|female|    2.189338571502903| -0.36724077345834105|\n",
      "|female|   11.222385997935366|  -0.3708513647831333|\n",
      "|  male|   11.187984511112807| -0.34509237542021665|\n",
      "|  male|  -23.806749698481266| -0.43122503445736715|\n",
      "|  male|   30.219527426000724|  -0.3240936355915373|\n",
      "|  male|  -21.809289819283187|   0.5736108592901694|\n",
      "|female|   3.1847096833624273|   1.6350482146906906|\n",
      "|female|   -9.791655271232358| -0.40965146552396525|\n",
      "|female|  -19.809590721592098|   0.5785327255208638|\n",
      "|female|   34.218925621382894| -0.31424990313014867|\n",
      "|  male|   -3.809758721570367|   -0.382006372150424|\n",
      "|  male|   15.176186614029936|   4.6643214946253835|\n",
      "|female|   -9.808856014643636|  -0.3967719708425069|\n",
      "|female|   31.202176231434986|  -0.3087532077947318|\n",
      "|  male|  -21.809289819283187|   0.5736108592901694|\n",
      "|  male|  -23.789548955069986|  -0.4441045291388255|\n",
      "|female|    7.188586315730628|  -0.3549361078816053|\n",
      "|female|  -23.806749698481266| -0.43122503445736715|\n",
      "+------+---------------------+---------------------+\n",
      "only showing top 20 rows\n",
      "\n"
     ]
    }
   ],
   "source": [
    "pca2.transform(df.select(['Sex']+selected_cols).fillna(0)).show()"
   ]
  },
  {
   "cell_type": "markdown",
   "metadata": {},
   "source": [
    "Comparing it with the output from the standard PCA, we have a match!"
   ]
  },
  {
   "cell_type": "code",
   "execution_count": 67,
   "metadata": {},
   "outputs": [
    {
     "data": {
      "text/plain": [
       "array([[ -1.81005962,  -0.37708451],\n",
       "       [ 14.22193464,  -0.36346857],\n",
       "       [  2.18933857,  -0.36724077],\n",
       "       ...,\n",
       "       [-23.81122814,   1.56860302],\n",
       "       [  2.22374006,  -0.39299976],\n",
       "       [  8.18843586,  -0.35247517]])"
      ]
     },
     "execution_count": 67,
     "metadata": {},
     "output_type": "execute_result"
    }
   ],
   "source": [
    "pca2.fit_transform(pdf[selected_cols].fillna(0))"
   ]
  },
  {
   "cell_type": "code",
   "execution_count": null,
   "metadata": {},
   "outputs": [],
   "source": []
  }
 ],
 "metadata": {
  "kernelspec": {
   "display_name": "Python 3",
   "language": "python",
   "name": "python3"
  },
  "language_info": {
   "codemirror_mode": {
    "name": "ipython",
    "version": 3
   },
   "file_extension": ".py",
   "mimetype": "text/x-python",
   "name": "python",
   "nbconvert_exporter": "python",
   "pygments_lexer": "ipython3",
   "version": "3.7.3"
  }
 },
 "nbformat": 4,
 "nbformat_minor": 2
}
