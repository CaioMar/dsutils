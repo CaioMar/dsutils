{
 "cells": [
  {
   "cell_type": "code",
   "execution_count": 1,
   "metadata": {},
   "outputs": [
    {
     "name": "stderr",
     "output_type": "stream",
     "text": [
      "/usr/local/lib/python3.5/dist-packages/sklearn/ensemble/weight_boosting.py:29: DeprecationWarning: numpy.core.umath_tests is an internal NumPy module and should not be imported. It will be removed in a future NumPy release.\n",
      "  from numpy.core.umath_tests import inner1d\n"
     ]
    }
   ],
   "source": [
    "import pandas as pd\n",
    "import numpy as np\n",
    "from sklearn.tree import DecisionTreeClassifier, DecisionTreeRegressor\n",
    "from sklearn.ensemble import RandomForestRegressor, RandomForestClassifier\n",
    "from sklearn.model_selection import cross_val_score\n",
    "from sklearn.metrics import mean_squared_error as MSE\n",
    "import seaborn as sns\n",
    "from genetic_algorithms import SimpleGeneticAlgorithm as GA\n",
    "import matplotlib.pyplot as plt"
   ]
  },
  {
   "cell_type": "code",
   "execution_count": null,
   "metadata": {},
   "outputs": [],
   "source": [
    "df = pd.read_csv('train.csv')\n",
    "num_df = df._get_numeric_data().copy().fillna(0)"
   ]
  },
  {
   "cell_type": "code",
   "execution_count": null,
   "metadata": {},
   "outputs": [],
   "source": [
    "target = 'Survived'\n",
    "total_possible_vars = np.array(list(set(num_df.columns)-set([target])))"
   ]
  },
  {
   "cell_type": "code",
   "execution_count": null,
   "metadata": {},
   "outputs": [],
   "source": [
    "X = num_df[total_possible_vars]\n",
    "y = num_df[target]"
   ]
  },
  {
   "cell_type": "code",
   "execution_count": null,
   "metadata": {},
   "outputs": [],
   "source": [
    "tree = DecisionTreeClassifier(random_state=42, max_depth=3)"
   ]
  },
  {
   "cell_type": "code",
   "execution_count": null,
   "metadata": {},
   "outputs": [],
   "source": [
    "class GeneticAlgorithmFeatureSelection:\n",
    "    \n",
    "    def __init__(self, df, target, clf, n_iter=10, max_features=None, pop_step_size=4,\n",
    "                 selective_pressure=1.5, sel_frac_per_step=0.5, n_selected_elite=1,\n",
    "                 mutation_rate=None, seed=42, score='roc_auc', early_stopping=True,\n",
    "                 early_stopping_rounds=20):\n",
    "\n",
    "        np.random.seed(seed)\n",
    "        if max_features is None:\n",
    "            self.max_features = int(len(df.columns)*0.8)\n",
    "        else:\n",
    "            self.max_features = max_features\n",
    "        self.pop_step_size = pop_step_size\n",
    "        self.target = target\n",
    "        self.total_vars = np.array(list(set(df.columns)-set([target])))\n",
    "        self.X = df[self.total_vars]\n",
    "        self.y = df[self.target]\n",
    "        self.current_pop = self.initialization()\n",
    "        self.score = score\n",
    "        self.classifier = clf\n",
    "        self.selective_pressure = selective_pressure\n",
    "        self.n_sel_elite = n_selected_elite\n",
    "        self.n_roulette = int(pop_step_size*sel_frac_per_step - n_selected_elite)\n",
    "        self.sel_pop_hist = {}\n",
    "        self.generation = 0\n",
    "        if mutation_rate is None:\n",
    "            self.mutation_rate = 1/self.total_vars.shape[0]\n",
    "        else:\n",
    "            self.mutation_rate = mutation_rate\n",
    "        self.n_iter = n_iter\n",
    "        self.selected_pop = None\n",
    "        self.current_fitness_vector = None\n",
    "        self.performance_evolution = list()\n",
    "        self.best_score = None\n",
    "        self._early_stopping_rounds = early_stopping_rounds\n",
    "        self._rounds_with_no_improvement = 0\n",
    "        \n",
    "    def _check_if_valid_(self, pop):\n",
    "        return np.where((pop.sum(axis=1)==0) |                      #must have at least one feature\n",
    "                 (pop.sum(axis=1)>self.max_features))[0].size == 0  #must have less than max_features  \n",
    "        \n",
    "    def initialization(self):\n",
    "        pop = np.random.randint(0, 2, size = (self.pop_step_size, self.total_vars.shape[0]))\n",
    "        while not self._check_if_valid_(pop):\n",
    "            pop = np.random.randint(0, 2, size = (self.pop_step_size, self.total_vars.shape[0]))\n",
    "        return np.random.randint(0, 2, size = (self.pop_step_size, self.total_vars.shape[0]))\n",
    "        \n",
    "    def get_performance(self, encoded_var_list):\n",
    "        variables = self.total_vars[np.where(encoded_var_list==1)]\n",
    "        cross = cross_val_score(self.classifier, self.X[variables], self.y, cv=3, scoring = self.score)\n",
    "        return cross.mean()\n",
    "    \n",
    "    def fitness_assignment(self):\n",
    "        pop_performance = np.apply_along_axis(self.get_performance, axis=1, arr=self.current_pop)\n",
    "        self.performance_evolution += [pop_performance.max()]\n",
    "        if self.best_score is None:\n",
    "            self.best_score = self.performance_evolution[-1]\n",
    "        elif self.best_score < self.performance_evolution[-1]:\n",
    "            self.best_score = self.performance_evolution[-1]\n",
    "            self._rounds_with_no_improvement = 0\n",
    "        else:\n",
    "            self._rounds_with_no_improvement += 1\n",
    "        rank = pop_performance.argsort().argsort()\n",
    "        fitness = rank * self.selective_pressure\n",
    "        self.current_fitness_vector = fitness\n",
    "        self.selected_features = None\n",
    "    \n",
    "    def selection(self):\n",
    "        f_rank = self.current_fitness_vector\n",
    "        sel_by_elitism = self.current_pop[f_rank.argsort()[-self.n_sel_elite:]].reshape(self.n_sel_elite,-1)\n",
    "        ind_of_remaining = f_rank.argsort()[:-self.n_sel_elite]\n",
    "        prob_of_sel = f_rank[ind_of_remaining]/f_rank[ind_of_remaining].sum()\n",
    "        sel_roulette = self.current_pop[np.random.choice(ind_of_remaining,\n",
    "                                                         size=[self.n_roulette],\n",
    "                                                         replace=False,\n",
    "                                                         p=prob_of_sel)].reshape(self.n_roulette,-1)\n",
    "        sel_pop = np.concatenate([sel_by_elitism,sel_roulette])\n",
    "        self.sel_pop_hist[self.generation] = sel_pop\n",
    "    \n",
    "    def _cross_individuals_(self, pair):\n",
    "        #choose alleles from each of the mating individuals at random\n",
    "        #will implement one-point crossover in the future\n",
    "        cross_result = np.random.binomial(1, 0.5, size = self.total_vars.shape[0]).reshape(1,-1) \n",
    "        mask = np.concatenate([cross_result*(-1)+1, cross_result])\n",
    "        return (pair.reshape(2,-1)*mask).sum(axis=0) #result is of crossover between individuals\n",
    "    \n",
    "    def crossover(self):\n",
    "        sel_pop = self.sel_pop_hist[self.generation]\n",
    "        \n",
    "        def gen_cross_pop():\n",
    "            cross_pop = np.empty((self.pop_step_size, self.total_vars.shape[0]))\n",
    "            for i in range(self.pop_step_size):\n",
    "                sel_for_crossover = sel_pop[np.random.choice(np.arange(sel_pop.shape[0]), size=2, replace=False)]\n",
    "                cross_pop[i] = self._cross_individuals_(sel_for_crossover)\n",
    "            return cross_pop.astype(np.int)\n",
    "        \n",
    "        cross_pop = gen_cross_pop()\n",
    "        while not self._check_if_valid_(cross_pop):\n",
    "            cross_pop = gen_cross_pop()\n",
    "        \n",
    "        self.current_pop = cross_pop\n",
    "    \n",
    "    def mutation(self):\n",
    "        # Get population generated by crossover\n",
    "        cross_pop = self.current_pop\n",
    "        \n",
    "        def gen_mutated_pop():\n",
    "            # Transform the matrix temporarily 1->1 and 0->-1\n",
    "            transf_cross_pop = 2*cross_pop - 1\n",
    "            mask = 2*np.random.binomial(1, self.mutation_rate, size=cross_pop.shape) - 1\n",
    "            # Generate mutated population\n",
    "            mutated_pop = (transf_cross_pop*mask+1)/2\n",
    "            return mutated_pop.astype(np.int)\n",
    "        \n",
    "        mutated_pop = gen_mutated_pop()\n",
    "        while not self._check_if_valid_(mutated_pop):\n",
    "            mutated_pop = gen_mutated_pop()\n",
    "        \n",
    "        self.current_pop = mutated_pop\n",
    "    \n",
    "    def plot_evolution(self):\n",
    "        _ = plt.figure(figsize=(12,6))\n",
    "        _ = plt.plot(range(self.generation + 1),self.performance_evolution)\n",
    "        plt.ylabel(self.score)\n",
    "        plt.xlabel('Generation')\n",
    "        plt.show()\n",
    "    \n",
    "    def run(self):\n",
    "        flag_early_stopping = False\n",
    "        while(self.generation<self.n_iter):\n",
    "            self.fitness_assignment()\n",
    "            self.selection()\n",
    "            if self._rounds_with_no_improvement == self._early_stopping_rounds:\n",
    "                flag_early_stopping = True\n",
    "                break\n",
    "            self.crossover()\n",
    "            self.mutation()\n",
    "            self.generation += 1\n",
    "        if not flag_early_stopping:\n",
    "            self.fitness_assignment()\n",
    "            self.selection()\n",
    "        encoded_var_list = self.sel_pop_hist[np.argmax(self.performance_evolution)][0]\n",
    "        self.selected_features = self.total_vars[np.where(encoded_var_list==1)]"
   ]
  },
  {
   "cell_type": "code",
   "execution_count": null,
   "metadata": {},
   "outputs": [],
   "source": [
    "rf = RandomForestClassifier(random_state=42, max_depth=4, min_samples_leaf=5, n_jobs=1)"
   ]
  },
  {
   "cell_type": "code",
   "execution_count": null,
   "metadata": {},
   "outputs": [],
   "source": [
    "ga = GeneticAlgorithmFeatureSelection(num_df, target, rf, max_features=4, n_iter=120, n_selected_elite=1, seed=4)\n",
    "ga.run()"
   ]
  },
  {
   "cell_type": "code",
   "execution_count": null,
   "metadata": {},
   "outputs": [],
   "source": [
    "ga.plot_evolution()"
   ]
  },
  {
   "cell_type": "code",
   "execution_count": null,
   "metadata": {},
   "outputs": [],
   "source": [
    "ga.selected_features"
   ]
  },
  {
   "cell_type": "code",
   "execution_count": null,
   "metadata": {},
   "outputs": [],
   "source": [
    "cross_val_score(tree, num_df[ga.selected_features], num_df[target], scoring='roc_auc').mean()"
   ]
  },
  {
   "cell_type": "code",
   "execution_count": null,
   "metadata": {},
   "outputs": [],
   "source": [
    "cross_val_score(tree, num_df[total_possible_vars], num_df[target], scoring='roc_auc').mean()"
   ]
  },
  {
   "cell_type": "markdown",
   "metadata": {},
   "source": [
    "# House Price Dataset"
   ]
  },
  {
   "cell_type": "code",
   "execution_count": 3,
   "metadata": {},
   "outputs": [],
   "source": [
    "df = pd.read_csv('house.csv')\n",
    "num_df = df._get_numeric_data().copy().fillna(0)"
   ]
  },
  {
   "cell_type": "code",
   "execution_count": 4,
   "metadata": {},
   "outputs": [],
   "source": [
    "target = 'SalePrice'\n",
    "total_possible_vars = np.array(list(set(num_df.columns)-set([target])))"
   ]
  },
  {
   "cell_type": "code",
   "execution_count": 5,
   "metadata": {},
   "outputs": [],
   "source": [
    "X = num_df[total_possible_vars]\n",
    "y = num_df[target]"
   ]
  },
  {
   "cell_type": "code",
   "execution_count": 6,
   "metadata": {},
   "outputs": [],
   "source": [
    "rf = RandomForestRegressor(random_state=42, max_depth=10, min_samples_leaf=5, n_jobs=1)"
   ]
  },
  {
   "cell_type": "code",
   "execution_count": 16,
   "metadata": {},
   "outputs": [],
   "source": [
    "ga = GA(rf, score='neg_mean_squared_error', max_features=25, pop_step_size=12, n_iter=120, seed=7, early_stopping_rounds=30)\n",
    "ga.fit(X,y)"
   ]
  },
  {
   "cell_type": "code",
   "execution_count": 17,
   "metadata": {},
   "outputs": [
    {
     "data": {
      "image/png": "[encoded data removed]",
      "text/plain": [
       "<Figure size 864x432 with 1 Axes>"
      ]
     },
     "metadata": {},
     "output_type": "display_data"
    }
   ],
   "source": [
    "ga.plot_evolution()"
   ]
  },
  {
   "cell_type": "code",
   "execution_count": 18,
   "metadata": {},
   "outputs": [
    {
     "data": {
      "text/plain": [
       "20"
      ]
     },
     "execution_count": 18,
     "metadata": {},
     "output_type": "execute_result"
    }
   ],
   "source": [
    "len(ga.selected_features)"
   ]
  },
  {
   "cell_type": "code",
   "execution_count": 20,
   "metadata": {},
   "outputs": [
    {
     "name": "stderr",
     "output_type": "stream",
     "text": [
      "/home/caio/Desktop/dsutils/genetic_algorithm/genetic_algorithms.py:168: SettingWithCopyWarning: \n",
      "A value is trying to be set on a copy of a slice from a DataFrame\n",
      "\n",
      "See the caveats in the documentation: http://pandas.pydata.org/pandas-docs/stable/indexing.html#indexing-view-versus-copy\n",
      "  X.drop(features_to_drop, axis=1, inplace=True)\n"
     ]
    }
   ],
   "source": [
    "o = ga.transform(X)"
   ]
  },
  {
   "cell_type": "code",
   "execution_count": 22,
   "metadata": {},
   "outputs": [
    {
     "data": {
      "text/plain": [
       "20"
      ]
     },
     "execution_count": 22,
     "metadata": {},
     "output_type": "execute_result"
    }
   ],
   "source": [
    "len(o.columns)"
   ]
  },
  {
   "cell_type": "code",
   "execution_count": null,
   "metadata": {},
   "outputs": [],
   "source": []
  }
 ],
 "metadata": {
  "kernelspec": {
   "display_name": "Python 3",
   "language": "python",
   "name": "python3"
  },
  "language_info": {
   "codemirror_mode": {
    "name": "ipython",
    "version": 3
   },
   "file_extension": ".py",
   "mimetype": "text/x-python",
   "name": "python",
   "nbconvert_exporter": "python",
   "pygments_lexer": "ipython3",
   "version": "3.5.2"
  }
 },
 "nbformat": 4,
 "nbformat_minor": 2
}
