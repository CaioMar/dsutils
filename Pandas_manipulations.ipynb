{
 "cells": [
  {
   "cell_type": "code",
   "execution_count": 23,
   "metadata": {},
   "outputs": [],
   "source": [
    "import pandas as pd\n",
    "import numpy as np\n",
    "import matplotlib.pyplot as plt"
   ]
  },
  {
   "cell_type": "code",
   "execution_count": 63,
   "metadata": {},
   "outputs": [],
   "source": [
    "trans = pd.Series([pd.to_datetime('2019-0{}-{}'.format(a,x)) \n",
    "                   for a,x in zip(np.random.choice([8,9],size=100),np.random.randint(1,31,size=100))])"
   ]
  },
  {
   "cell_type": "code",
   "execution_count": 64,
   "metadata": {},
   "outputs": [],
   "source": [
    "df = trans.to_frame('date')\n",
    "df['value'] = 1000*np.random.random(100)\n",
    "df['id'] = np.random.randint(11,size=100)\n",
    "df['transac_desc'] = np.random.choice(['A','B','C','D'],size=100)"
   ]
  },
  {
   "cell_type": "code",
   "execution_count": 115,
   "metadata": {},
   "outputs": [],
   "source": [
    "df['freq_transac']=df.groupby(['id','transac_desc'])['date'].transform(lambda x : (x - min(x)).dt.days)"
   ]
  },
  {
   "cell_type": "code",
   "execution_count": 114,
   "metadata": {},
   "outputs": [
    {
     "data": {
      "text/html": [
       "<div>\n",
       "<style scoped>\n",
       "    .dataframe tbody tr th:only-of-type {\n",
       "        vertical-align: middle;\n",
       "    }\n",
       "\n",
       "    .dataframe tbody tr th {\n",
       "        vertical-align: top;\n",
       "    }\n",
       "\n",
       "    .dataframe thead th {\n",
       "        text-align: right;\n",
       "    }\n",
       "</style>\n",
       "<table border=\"1\" class=\"dataframe\">\n",
       "  <thead>\n",
       "    <tr style=\"text-align: right;\">\n",
       "      <th></th>\n",
       "      <th>date</th>\n",
       "      <th>value</th>\n",
       "      <th>id</th>\n",
       "      <th>transac_desc</th>\n",
       "      <th>freq_transac</th>\n",
       "      <th>interval_transac</th>\n",
       "      <th>day</th>\n",
       "    </tr>\n",
       "  </thead>\n",
       "  <tbody>\n",
       "    <tr>\n",
       "      <th>0</th>\n",
       "      <td>2019-09-29</td>\n",
       "      <td>931.492243</td>\n",
       "      <td>3</td>\n",
       "      <td>D</td>\n",
       "      <td>56</td>\n",
       "      <td>NaN</td>\n",
       "      <td>29</td>\n",
       "    </tr>\n",
       "    <tr>\n",
       "      <th>1</th>\n",
       "      <td>2019-08-02</td>\n",
       "      <td>100.185976</td>\n",
       "      <td>8</td>\n",
       "      <td>D</td>\n",
       "      <td>0</td>\n",
       "      <td>NaN</td>\n",
       "      <td>2</td>\n",
       "    </tr>\n",
       "    <tr>\n",
       "      <th>2</th>\n",
       "      <td>2019-08-10</td>\n",
       "      <td>579.797091</td>\n",
       "      <td>1</td>\n",
       "      <td>A</td>\n",
       "      <td>0</td>\n",
       "      <td>NaN</td>\n",
       "      <td>10</td>\n",
       "    </tr>\n",
       "    <tr>\n",
       "      <th>3</th>\n",
       "      <td>2019-08-07</td>\n",
       "      <td>15.835632</td>\n",
       "      <td>4</td>\n",
       "      <td>A</td>\n",
       "      <td>0</td>\n",
       "      <td>NaN</td>\n",
       "      <td>7</td>\n",
       "    </tr>\n",
       "    <tr>\n",
       "      <th>4</th>\n",
       "      <td>2019-08-11</td>\n",
       "      <td>494.701348</td>\n",
       "      <td>5</td>\n",
       "      <td>C</td>\n",
       "      <td>9</td>\n",
       "      <td>NaN</td>\n",
       "      <td>11</td>\n",
       "    </tr>\n",
       "  </tbody>\n",
       "</table>\n",
       "</div>"
      ],
      "text/plain": [
       "        date       value  id transac_desc  freq_transac  interval_transac  day\n",
       "0 2019-09-29  931.492243   3            D            56               NaN   29\n",
       "1 2019-08-02  100.185976   8            D             0               NaN    2\n",
       "2 2019-08-10  579.797091   1            A             0               NaN   10\n",
       "3 2019-08-07   15.835632   4            A             0               NaN    7\n",
       "4 2019-08-11  494.701348   5            C             9               NaN   11"
      ]
     },
     "execution_count": 114,
     "metadata": {},
     "output_type": "execute_result"
    }
   ],
   "source": [
    "df.head()"
   ]
  },
  {
   "cell_type": "code",
   "execution_count": 112,
   "metadata": {},
   "outputs": [],
   "source": [
    "def teste(x):\n",
    "    x = x.sort_values()\n",
    "    if x.size > 1:\n",
    "        x = x - x.shift(1)\n",
    "    return x"
   ]
  },
  {
   "cell_type": "code",
   "execution_count": 113,
   "metadata": {},
   "outputs": [],
   "source": [
    "df['interval_transac']=df.groupby(['id','transac_desc'])['freq_transac'].transform(teste)"
   ]
  },
  {
   "cell_type": "code",
   "execution_count": 106,
   "metadata": {},
   "outputs": [],
   "source": [
    "df['day'] = df['date'].apply(lambda x: x.day)"
   ]
  },
  {
   "cell_type": "code",
   "execution_count": 166,
   "metadata": {},
   "outputs": [],
   "source": [
    "def count_avg(x):\n",
    "    return x.size/3"
   ]
  },
  {
   "cell_type": "code",
   "execution_count": 167,
   "metadata": {},
   "outputs": [],
   "source": [
    "final= df.groupby(['id','transac_desc']).agg({'interval_transac':['mean','std'],'day':['min','mean','max','median','std',count_avg,lambda x: max(x)-min(x)],'value':['mean','std']})"
   ]
  },
  {
   "cell_type": "code",
   "execution_count": 168,
   "metadata": {},
   "outputs": [
    {
     "data": {
      "text/plain": [
       "MultiIndex(levels=[['interval_transac', 'day', 'value'], ['<lambda>', 'count_avg', 'max', 'mean', 'median', 'min', 'std']],\n",
       "           codes=[[0, 0, 1, 1, 1, 1, 1, 1, 1, 2, 2], [3, 6, 5, 3, 2, 4, 6, 1, 0, 3, 6]])"
      ]
     },
     "execution_count": 168,
     "metadata": {},
     "output_type": "execute_result"
    }
   ],
   "source": [
    "final.columns"
   ]
  },
  {
   "cell_type": "code",
   "execution_count": 169,
   "metadata": {},
   "outputs": [
    {
     "data": {
      "text/plain": [
       "Index(['interval_transac', 'interval_transac', 'day', 'day', 'day', 'day',\n",
       "       'day', 'day', 'day', 'value', 'value'],\n",
       "      dtype='object')"
      ]
     },
     "execution_count": 169,
     "metadata": {},
     "output_type": "execute_result"
    }
   ],
   "source": [
    "final.columns.get_level_values(0)"
   ]
  },
  {
   "cell_type": "code",
   "execution_count": 170,
   "metadata": {},
   "outputs": [],
   "source": [
    "final.columns = ['_'.join(col).strip() for col in final.columns.values]"
   ]
  },
  {
   "cell_type": "code",
   "execution_count": 171,
   "metadata": {},
   "outputs": [
    {
     "data": {
      "text/html": [
       "<div>\n",
       "<style scoped>\n",
       "    .dataframe tbody tr th:only-of-type {\n",
       "        vertical-align: middle;\n",
       "    }\n",
       "\n",
       "    .dataframe tbody tr th {\n",
       "        vertical-align: top;\n",
       "    }\n",
       "\n",
       "    .dataframe thead th {\n",
       "        text-align: right;\n",
       "    }\n",
       "</style>\n",
       "<table border=\"1\" class=\"dataframe\">\n",
       "  <thead>\n",
       "    <tr style=\"text-align: right;\">\n",
       "      <th></th>\n",
       "      <th></th>\n",
       "      <th>interval_transac_mean</th>\n",
       "      <th>interval_transac_std</th>\n",
       "      <th>day_min</th>\n",
       "      <th>day_mean</th>\n",
       "      <th>day_max</th>\n",
       "      <th>day_median</th>\n",
       "      <th>day_std</th>\n",
       "      <th>day_count_avg</th>\n",
       "      <th>day_&lt;lambda&gt;</th>\n",
       "      <th>value_mean</th>\n",
       "      <th>value_std</th>\n",
       "    </tr>\n",
       "    <tr>\n",
       "      <th>id</th>\n",
       "      <th>transac_desc</th>\n",
       "      <th></th>\n",
       "      <th></th>\n",
       "      <th></th>\n",
       "      <th></th>\n",
       "      <th></th>\n",
       "      <th></th>\n",
       "      <th></th>\n",
       "      <th></th>\n",
       "      <th></th>\n",
       "      <th></th>\n",
       "      <th></th>\n",
       "    </tr>\n",
       "  </thead>\n",
       "  <tbody>\n",
       "    <tr>\n",
       "      <th rowspan=\"2\" valign=\"top\">8</th>\n",
       "      <th>C</th>\n",
       "      <td>6.5</td>\n",
       "      <td>0.707107</td>\n",
       "      <td>2</td>\n",
       "      <td>8.666667</td>\n",
       "      <td>15</td>\n",
       "      <td>9.0</td>\n",
       "      <td>6.506407</td>\n",
       "      <td>1.0</td>\n",
       "      <td>13</td>\n",
       "      <td>378.533857</td>\n",
       "      <td>241.910741</td>\n",
       "    </tr>\n",
       "    <tr>\n",
       "      <th>D</th>\n",
       "      <td>5.0</td>\n",
       "      <td>1.414214</td>\n",
       "      <td>2</td>\n",
       "      <td>7.333333</td>\n",
       "      <td>12</td>\n",
       "      <td>8.0</td>\n",
       "      <td>5.033223</td>\n",
       "      <td>1.0</td>\n",
       "      <td>10</td>\n",
       "      <td>247.645717</td>\n",
       "      <td>207.301332</td>\n",
       "    </tr>\n",
       "    <tr>\n",
       "      <th>10</th>\n",
       "      <th>D</th>\n",
       "      <td>2.5</td>\n",
       "      <td>0.707107</td>\n",
       "      <td>4</td>\n",
       "      <td>6.333333</td>\n",
       "      <td>9</td>\n",
       "      <td>6.0</td>\n",
       "      <td>2.516611</td>\n",
       "      <td>1.0</td>\n",
       "      <td>5</td>\n",
       "      <td>380.776172</td>\n",
       "      <td>323.363877</td>\n",
       "    </tr>\n",
       "  </tbody>\n",
       "</table>\n",
       "</div>"
      ],
      "text/plain": [
       "                 interval_transac_mean  interval_transac_std  day_min  \\\n",
       "id transac_desc                                                         \n",
       "8  C                               6.5              0.707107        2   \n",
       "   D                               5.0              1.414214        2   \n",
       "10 D                               2.5              0.707107        4   \n",
       "\n",
       "                 day_mean  day_max  day_median   day_std  day_count_avg  \\\n",
       "id transac_desc                                                           \n",
       "8  C             8.666667       15         9.0  6.506407            1.0   \n",
       "   D             7.333333       12         8.0  5.033223            1.0   \n",
       "10 D             6.333333        9         6.0  2.516611            1.0   \n",
       "\n",
       "                 day_<lambda>  value_mean   value_std  \n",
       "id transac_desc                                        \n",
       "8  C                       13  378.533857  241.910741  \n",
       "   D                       10  247.645717  207.301332  \n",
       "10 D                        5  380.776172  323.363877  "
      ]
     },
     "execution_count": 171,
     "metadata": {},
     "output_type": "execute_result"
    }
   ],
   "source": [
    "final.query('interval_transac_std<3')"
   ]
  },
  {
   "cell_type": "code",
   "execution_count": 163,
   "metadata": {},
   "outputs": [
    {
     "data": {
      "text/plain": [
       "11"
      ]
     },
     "execution_count": 163,
     "metadata": {},
     "output_type": "execute_result"
    }
   ],
   "source": [
    "np.unique(final.index.get_level_values(0)).shape[0]"
   ]
  },
  {
   "cell_type": "code",
   "execution_count": null,
   "metadata": {},
   "outputs": [],
   "source": []
  }
 ],
 "metadata": {
  "kernelspec": {
   "display_name": "Python 3",
   "language": "python",
   "name": "python3"
  },
  "language_info": {
   "codemirror_mode": {
    "name": "ipython",
    "version": 3
   },
   "file_extension": ".py",
   "mimetype": "text/x-python",
   "name": "python",
   "nbconvert_exporter": "python",
   "pygments_lexer": "ipython3",
   "version": "3.7.3"
  }
 },
 "nbformat": 4,
 "nbformat_minor": 2
}
