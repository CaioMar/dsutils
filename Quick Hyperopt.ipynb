{
 "cells": [
  {
   "cell_type": "code",
   "execution_count": 20,
   "metadata": {
    "ExecuteTime": {
     "end_time": "2020-11-06T09:25:22.565782Z",
     "start_time": "2020-11-06T09:25:22.555939Z"
    }
   },
   "outputs": [],
   "source": [
    "# Imports\n",
    "from multiprocessing import Pipe, Process\n",
    "\n",
    "from sklearn.ensemble import RandomForestClassifier\n",
    "from sklearn.model_selection import train_test_split, cross_val_score, KFold\n",
    "from sklearn.metrics import roc_auc_score\n",
    "\n",
    "from hyperopt import Trials, STATUS_OK, tpe, hp, fmin, space_eval\n",
    "\n",
    "import pandas as pd"
   ]
  },
  {
   "cell_type": "code",
   "execution_count": 4,
   "metadata": {
    "ExecuteTime": {
     "end_time": "2020-11-06T02:05:07.799314Z",
     "start_time": "2020-11-06T02:05:07.662503Z"
    }
   },
   "outputs": [],
   "source": [
    "df = pd.read_csv('train.csv')"
   ]
  },
  {
   "cell_type": "code",
   "execution_count": 6,
   "metadata": {
    "ExecuteTime": {
     "end_time": "2020-11-06T03:14:40.852455Z",
     "start_time": "2020-11-06T03:14:40.849553Z"
    }
   },
   "outputs": [],
   "source": [
    "pred = ['Age','Parch','Pclass']\n",
    "target = 'Survived'"
   ]
  },
  {
   "cell_type": "code",
   "execution_count": 15,
   "metadata": {
    "ExecuteTime": {
     "end_time": "2020-11-06T03:23:59.475733Z",
     "start_time": "2020-11-06T03:23:59.464203Z"
    }
   },
   "outputs": [],
   "source": [
    "X_train, X_test, y_train, y_test = train_test_split(df[pred].fillna(0), df[target], test_size=0.0, random_state=42)"
   ]
  },
  {
   "cell_type": "code",
   "execution_count": 70,
   "metadata": {
    "ExecuteTime": {
     "end_time": "2020-11-06T10:06:30.665886Z",
     "start_time": "2020-11-06T10:06:30.630570Z"
    }
   },
   "outputs": [],
   "source": [
    "def run_training(df, pred, target, max_evals=10):\n",
    "    \n",
    "    X_train, y_train = df[pred].fillna(0), df[target]\n",
    "    \n",
    "    # Classifier\n",
    "    rf = RandomForestClassifier(n_jobs=-1, random_state=42)\n",
    "\n",
    "    space_rf = {\n",
    "        'max_features':hp.pchoice('max_features', [\n",
    "            (0.2, 'sqrt'),  # most common choice.\n",
    "            (0.1, 'log2'),  # less common choice.\n",
    "            (0.1, None),  # all features, less common choice.\n",
    "            (0.6, hp.uniform('max_features' + '.frac', 0., 1.))\n",
    "        ]),\n",
    "        'n_estimators': hp.qloguniform('n_estimators', np.log(9.5), np.log(500.5), 1),\n",
    "        'min_samples_leaf': hp.qloguniform('min_samples_leaf', np.log(1.5), np.log(50.5), 1),\n",
    "        'max_depth': hp.choice('max_depth', range(3, 20, 2)),\n",
    "        'min_samples_split': 2,\n",
    "        'bootstrap': hp.choice('bootstrap', [True, False]),\n",
    "        'criterion': hp.choice('criterion', ['gini', 'entropy'])\n",
    "    }\n",
    "\n",
    "    def objective(params):\n",
    "        shuffle = KFold(n_splits=3, shuffle=True)\n",
    "        score = cross_val_score(rf, X_train, y_train, cv=shuffle, scoring='roc_auc', n_jobs=-1)\n",
    "        return 1 - score.mean()\n",
    "\n",
    "    # The Trials object will store details of each iteration\n",
    "    trials = Trials()\n",
    "\n",
    "    # Run the hyperparameter search using the tpe algorithm\n",
    "    best = fmin(objective,\n",
    "                space_rf,\n",
    "                algo=tpe.suggest,\n",
    "                max_evals=max_evals,\n",
    "                trials=trials)\n",
    "\n",
    "    if 'max_features.frac' in best.keys():\n",
    "        best['max_features'] = best['max_features.frac']\n",
    "        del best['max_features.frac']\n",
    "    else:\n",
    "        best['max_features'] = ['sqrt','log2',None][best['max_features']]\n",
    "        \n",
    "    best['criterion'] = ['gini', 'entropy'][best['criterion']]\n",
    "    \n",
    "    return best\n",
    "\n",
    "def retrain_best_model(df, pred, target, best_kwargs, seed=42, n_jobs=-1):\n",
    "    \n",
    "    X_train, y_train = df[pred].fillna(0), df[target]\n",
    "    \n",
    "    best_kwargs['n_jobs'] = n_jobs\n",
    "    best_kwargs['random_state'] = seed\n",
    "    best_kwargs['n_estimators'] = int(best_kwargs['n_estimators'])\n",
    "    best_kwargs['min_samples_leaf'] = int(best_kwargs['min_samples_leaf'])\n",
    "\n",
    "    # Classifier\n",
    "    rf = RandomForestClassifier(**best_kwargs)\n",
    "    rf.fit(X_train, y_train)\n",
    "    \n",
    "    return rf"
   ]
  },
  {
   "cell_type": "code",
   "execution_count": 72,
   "metadata": {
    "ExecuteTime": {
     "end_time": "2020-11-06T10:07:19.401475Z",
     "start_time": "2020-11-06T10:06:50.474912Z"
    }
   },
   "outputs": [
    {
     "name": "stdout",
     "output_type": "stream",
     "text": [
      "100%|██████████| 50/50 [00:28<00:00,  1.76trial/s, best loss: 0.2938798725017714] \n",
      "{'bootstrap': 1, 'criterion': 'gini', 'max_depth': 6, 'max_features': 0.7619769666982357, 'min_samples_leaf': 2.0, 'n_estimators': 76.0}\n"
     ]
    },
    {
     "data": {
      "text/plain": [
       "RandomForestClassifier(bootstrap=1, max_depth=6,\n",
       "                       max_features=0.7619769666982357, min_samples_leaf=2,\n",
       "                       n_estimators=76, n_jobs=-1, random_state=42)"
      ]
     },
     "execution_count": 72,
     "metadata": {},
     "output_type": "execute_result"
    }
   ],
   "source": [
    "best_args = run_training(df, pred, target, 50)\n",
    "print(best_args)\n",
    "retrain_best_model(df, pred, target, best_args)"
   ]
  },
  {
   "cell_type": "code",
   "execution_count": null,
   "metadata": {},
   "outputs": [],
   "source": []
  }
 ],
 "metadata": {
  "hide_input": false,
  "kernelspec": {
   "display_name": "Python 3",
   "language": "python",
   "name": "python3"
  },
  "language_info": {
   "codemirror_mode": {
    "name": "ipython",
    "version": 3
   },
   "file_extension": ".py",
   "mimetype": "text/x-python",
   "name": "python",
   "nbconvert_exporter": "python",
   "pygments_lexer": "ipython3",
   "version": "3.7.4"
  },
  "toc": {
   "base_numbering": 1,
   "nav_menu": {},
   "number_sections": true,
   "sideBar": true,
   "skip_h1_title": false,
   "title_cell": "Table of Contents",
   "title_sidebar": "Contents",
   "toc_cell": false,
   "toc_position": {},
   "toc_section_display": true,
   "toc_window_display": false
  },
  "varInspector": {
   "cols": {
    "lenName": 16,
    "lenType": 16,
    "lenVar": 40
   },
   "kernels_config": {
    "python": {
     "delete_cmd_postfix": "",
     "delete_cmd_prefix": "del ",
     "library": "var_list.py",
     "varRefreshCmd": "print(var_dic_list())"
    },
    "r": {
     "delete_cmd_postfix": ") ",
     "delete_cmd_prefix": "rm(",
     "library": "var_list.r",
     "varRefreshCmd": "cat(var_dic_list()) "
    }
   },
   "types_to_exclude": [
    "module",
    "function",
    "builtin_function_or_method",
    "instance",
    "_Feature"
   ],
   "window_display": false
  }
 },
 "nbformat": 4,
 "nbformat_minor": 2
}
